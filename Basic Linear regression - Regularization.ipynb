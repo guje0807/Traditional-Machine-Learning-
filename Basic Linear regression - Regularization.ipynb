{
 "cells": [
  {
   "cell_type": "code",
   "execution_count": 1,
   "id": "cfc9f692",
   "metadata": {},
   "outputs": [],
   "source": [
    "import numpy as np\n",
    "import matplotlib.pyplot as plt"
   ]
  },
  {
   "cell_type": "code",
   "execution_count": 2,
   "id": "3b8d7e15",
   "metadata": {},
   "outputs": [],
   "source": [
    "# Deciding the random x vector parameter values\n",
    "\n",
    "np.random.seed(42)\n",
    "\n",
    "m = 100\n",
    "X = 2 * np.random.rand(m,1)"
   ]
  },
  {
   "cell_type": "code",
   "execution_count": 3,
   "id": "18b547ab",
   "metadata": {},
   "outputs": [],
   "source": [
    "# Decidng the Y vector values using a function of x  and paramters as 4 and 3\n",
    "\n",
    "Y = 4+3*X + np.random.randn(m,1)"
   ]
  },
  {
   "cell_type": "code",
   "execution_count": 4,
   "id": "eaf00ea3",
   "metadata": {},
   "outputs": [
    {
     "data": {
      "text/plain": [
       "array([[ 6.33428778],\n",
       "       [ 9.40527849],\n",
       "       [ 8.48372443],\n",
       "       [ 5.60438199],\n",
       "       [ 4.71643995],\n",
       "       [ 5.29307969],\n",
       "       [ 5.82639572],\n",
       "       [ 8.67878666],\n",
       "       [ 6.79819647],\n",
       "       [ 7.74667842],\n",
       "       [ 5.03890908],\n",
       "       [10.14821022],\n",
       "       [ 8.46489564],\n",
       "       [ 5.7873021 ],\n",
       "       [ 5.18802735],\n",
       "       [ 6.06907205],\n",
       "       [ 5.12340036],\n",
       "       [ 6.82087644],\n",
       "       [ 6.19956196],\n",
       "       [ 4.28385989],\n",
       "       [ 7.96723765],\n",
       "       [ 5.09801844],\n",
       "       [ 5.75798135],\n",
       "       [ 5.96358393],\n",
       "       [ 5.32104916],\n",
       "       [ 8.29041045],\n",
       "       [ 4.85532818],\n",
       "       [ 6.28312936],\n",
       "       [ 7.3932017 ],\n",
       "       [ 4.68275333],\n",
       "       [ 9.53145501],\n",
       "       [ 5.19772255],\n",
       "       [ 4.64785995],\n",
       "       [ 9.61886731],\n",
       "       [ 7.87502098],\n",
       "       [ 8.82387021],\n",
       "       [ 5.88791282],\n",
       "       [ 7.0492748 ],\n",
       "       [ 7.91303719],\n",
       "       [ 6.9424623 ],\n",
       "       [ 4.69751764],\n",
       "       [ 5.80238342],\n",
       "       [ 5.34915394],\n",
       "       [10.20785545],\n",
       "       [ 6.34371184],\n",
       "       [ 7.06574625],\n",
       "       [ 7.27306077],\n",
       "       [ 5.71855706],\n",
       "       [ 7.86711877],\n",
       "       [ 7.29958236],\n",
       "       [ 8.82697144],\n",
       "       [ 8.08449921],\n",
       "       [ 9.73664501],\n",
       "       [ 8.86548845],\n",
       "       [ 6.03673644],\n",
       "       [ 9.59980838],\n",
       "       [ 3.4686513 ],\n",
       "       [ 5.64948961],\n",
       "       [ 3.3519395 ],\n",
       "       [ 7.50191639],\n",
       "       [ 5.54881045],\n",
       "       [ 5.30603267],\n",
       "       [ 9.78594227],\n",
       "       [ 4.90965564],\n",
       "       [ 5.91306699],\n",
       "       [ 8.56331925],\n",
       "       [ 3.23806212],\n",
       "       [ 8.99781574],\n",
       "       [ 4.70718666],\n",
       "       [10.70314449],\n",
       "       [ 7.3965179 ],\n",
       "       [ 3.87183748],\n",
       "       [ 4.55507427],\n",
       "       [ 9.18975324],\n",
       "       [ 8.49163691],\n",
       "       [ 8.72049122],\n",
       "       [ 7.94759736],\n",
       "       [ 4.67652161],\n",
       "       [ 6.44386684],\n",
       "       [ 3.98086294],\n",
       "       [11.04439507],\n",
       "       [ 8.21362168],\n",
       "       [ 4.79408465],\n",
       "       [ 5.03790371],\n",
       "       [ 4.89121226],\n",
       "       [ 6.73818454],\n",
       "       [ 9.53623265],\n",
       "       [ 7.00466251],\n",
       "       [10.28665258],\n",
       "       [ 7.24607048],\n",
       "       [ 5.53962564],\n",
       "       [10.17626171],\n",
       "       [ 8.31932218],\n",
       "       [ 6.61392702],\n",
       "       [ 7.73628865],\n",
       "       [ 6.14696329],\n",
       "       [ 7.05929527],\n",
       "       [ 6.90639808],\n",
       "       [ 4.42920556],\n",
       "       [ 5.47453181]])"
      ]
     },
     "execution_count": 4,
     "metadata": {},
     "output_type": "execute_result"
    }
   ],
   "source": [
    "Y"
   ]
  },
  {
   "cell_type": "code",
   "execution_count": 5,
   "id": "efe38c22",
   "metadata": {},
   "outputs": [
    {
     "data": {
      "text/plain": [
       "<matplotlib.collections.PathCollection at 0x1ca3531e0b0>"
      ]
     },
     "execution_count": 5,
     "metadata": {},
     "output_type": "execute_result"
    },
    {
     "data": {
      "image/png": "[encoded data removed]",
      "text/plain": [
       "<Figure size 640x480 with 1 Axes>"
      ]
     },
     "metadata": {},
     "output_type": "display_data"
    }
   ],
   "source": [
    "# X and Y as linear relation\n",
    "\n",
    "plt.grid()\n",
    "plt.scatter(X, Y)"
   ]
  },
  {
   "cell_type": "code",
   "execution_count": 6,
   "id": "6597c823",
   "metadata": {},
   "outputs": [],
   "source": [
    "#Lets computer teta value using normal equation.\n",
    "\n",
    "from sklearn.preprocessing import add_dummy_feature\n",
    "\n",
    "X_b = add_dummy_feature(X) # Adding the bias term"
   ]
  },
  {
   "cell_type": "code",
   "execution_count": 7,
   "id": "bc999ee1",
   "metadata": {},
   "outputs": [
    {
     "name": "stdout",
     "output_type": "stream",
     "text": [
      "[[0.74908024]\n",
      " [1.90142861]\n",
      " [1.46398788]\n",
      " [1.19731697]\n",
      " [0.31203728]\n",
      " [0.31198904]\n",
      " [0.11616722]\n",
      " [1.73235229]\n",
      " [1.20223002]\n",
      " [1.41614516]\n",
      " [0.04116899]\n",
      " [1.9398197 ]\n",
      " [1.66488528]\n",
      " [0.42467822]\n",
      " [0.36364993]\n",
      " [0.36680902]\n",
      " [0.60848449]\n",
      " [1.04951286]\n",
      " [0.86389004]\n",
      " [0.58245828]\n",
      " [1.22370579]\n",
      " [0.27898772]\n",
      " [0.5842893 ]\n",
      " [0.73272369]\n",
      " [0.91213997]\n",
      " [1.57035192]\n",
      " [0.39934756]\n",
      " [1.02846888]\n",
      " [1.18482914]\n",
      " [0.09290083]\n",
      " [1.2150897 ]\n",
      " [0.34104825]\n",
      " [0.13010319]\n",
      " [1.89777107]\n",
      " [1.93126407]\n",
      " [1.6167947 ]\n",
      " [0.60922754]\n",
      " [0.19534423]\n",
      " [1.36846605]\n",
      " [0.88030499]\n",
      " [0.24407647]\n",
      " [0.99035382]\n",
      " [0.06877704]\n",
      " [1.8186408 ]\n",
      " [0.51755996]\n",
      " [1.32504457]\n",
      " [0.62342215]\n",
      " [1.04013604]\n",
      " [1.09342056]\n",
      " [0.36970891]\n",
      " [1.93916926]\n",
      " [1.55026565]\n",
      " [1.87899788]\n",
      " [1.7896547 ]\n",
      " [1.19579996]\n",
      " [1.84374847]\n",
      " [0.176985  ]\n",
      " [0.39196572]\n",
      " [0.09045458]\n",
      " [0.65066066]\n",
      " [0.77735458]\n",
      " [0.54269806]\n",
      " [1.65747502]\n",
      " [0.71350665]\n",
      " [0.56186902]\n",
      " [1.08539217]\n",
      " [0.28184845]\n",
      " [1.60439396]\n",
      " [0.14910129]\n",
      " [1.97377387]\n",
      " [1.54448954]\n",
      " [0.39743136]\n",
      " [0.01104423]\n",
      " [1.63092286]\n",
      " [1.41371469]\n",
      " [1.45801434]\n",
      " [1.54254069]\n",
      " [0.1480893 ]\n",
      " [0.71693146]\n",
      " [0.23173812]\n",
      " [1.72620685]\n",
      " [1.24659625]\n",
      " [0.66179605]\n",
      " [0.1271167 ]\n",
      " [0.62196464]\n",
      " [0.65036664]\n",
      " [1.45921236]\n",
      " [1.27511494]\n",
      " [1.77442549]\n",
      " [0.94442985]\n",
      " [0.23918849]\n",
      " [1.42648957]\n",
      " [1.5215701 ]\n",
      " [1.1225544 ]\n",
      " [1.54193436]\n",
      " [0.98759119]\n",
      " [1.04546566]\n",
      " [0.85508204]\n",
      " [0.05083825]\n",
      " [0.21578285]] [[1.         0.74908024]\n",
      " [1.         1.90142861]\n",
      " [1.         1.46398788]\n",
      " [1.         1.19731697]\n",
      " [1.         0.31203728]\n",
      " [1.         0.31198904]\n",
      " [1.         0.11616722]\n",
      " [1.         1.73235229]\n",
      " [1.         1.20223002]\n",
      " [1.         1.41614516]\n",
      " [1.         0.04116899]\n",
      " [1.         1.9398197 ]\n",
      " [1.         1.66488528]\n",
      " [1.         0.42467822]\n",
      " [1.         0.36364993]\n",
      " [1.         0.36680902]\n",
      " [1.         0.60848449]\n",
      " [1.         1.04951286]\n",
      " [1.         0.86389004]\n",
      " [1.         0.58245828]\n",
      " [1.         1.22370579]\n",
      " [1.         0.27898772]\n",
      " [1.         0.5842893 ]\n",
      " [1.         0.73272369]\n",
      " [1.         0.91213997]\n",
      " [1.         1.57035192]\n",
      " [1.         0.39934756]\n",
      " [1.         1.02846888]\n",
      " [1.         1.18482914]\n",
      " [1.         0.09290083]\n",
      " [1.         1.2150897 ]\n",
      " [1.         0.34104825]\n",
      " [1.         0.13010319]\n",
      " [1.         1.89777107]\n",
      " [1.         1.93126407]\n",
      " [1.         1.6167947 ]\n",
      " [1.         0.60922754]\n",
      " [1.         0.19534423]\n",
      " [1.         1.36846605]\n",
      " [1.         0.88030499]\n",
      " [1.         0.24407647]\n",
      " [1.         0.99035382]\n",
      " [1.         0.06877704]\n",
      " [1.         1.8186408 ]\n",
      " [1.         0.51755996]\n",
      " [1.         1.32504457]\n",
      " [1.         0.62342215]\n",
      " [1.         1.04013604]\n",
      " [1.         1.09342056]\n",
      " [1.         0.36970891]\n",
      " [1.         1.93916926]\n",
      " [1.         1.55026565]\n",
      " [1.         1.87899788]\n",
      " [1.         1.7896547 ]\n",
      " [1.         1.19579996]\n",
      " [1.         1.84374847]\n",
      " [1.         0.176985  ]\n",
      " [1.         0.39196572]\n",
      " [1.         0.09045458]\n",
      " [1.         0.65066066]\n",
      " [1.         0.77735458]\n",
      " [1.         0.54269806]\n",
      " [1.         1.65747502]\n",
      " [1.         0.71350665]\n",
      " [1.         0.56186902]\n",
      " [1.         1.08539217]\n",
      " [1.         0.28184845]\n",
      " [1.         1.60439396]\n",
      " [1.         0.14910129]\n",
      " [1.         1.97377387]\n",
      " [1.         1.54448954]\n",
      " [1.         0.39743136]\n",
      " [1.         0.01104423]\n",
      " [1.         1.63092286]\n",
      " [1.         1.41371469]\n",
      " [1.         1.45801434]\n",
      " [1.         1.54254069]\n",
      " [1.         0.1480893 ]\n",
      " [1.         0.71693146]\n",
      " [1.         0.23173812]\n",
      " [1.         1.72620685]\n",
      " [1.         1.24659625]\n",
      " [1.         0.66179605]\n",
      " [1.         0.1271167 ]\n",
      " [1.         0.62196464]\n",
      " [1.         0.65036664]\n",
      " [1.         1.45921236]\n",
      " [1.         1.27511494]\n",
      " [1.         1.77442549]\n",
      " [1.         0.94442985]\n",
      " [1.         0.23918849]\n",
      " [1.         1.42648957]\n",
      " [1.         1.5215701 ]\n",
      " [1.         1.1225544 ]\n",
      " [1.         1.54193436]\n",
      " [1.         0.98759119]\n",
      " [1.         1.04546566]\n",
      " [1.         0.85508204]\n",
      " [1.         0.05083825]\n",
      " [1.         0.21578285]]\n"
     ]
    }
   ],
   "source": [
    "print (X , X_b)"
   ]
  },
  {
   "cell_type": "code",
   "execution_count": 8,
   "id": "bcd80e7e",
   "metadata": {},
   "outputs": [
    {
     "data": {
      "text/plain": [
       "(100, 2)"
      ]
     },
     "execution_count": 8,
     "metadata": {},
     "output_type": "execute_result"
    }
   ],
   "source": [
    "X_b.shape"
   ]
  },
  {
   "cell_type": "code",
   "execution_count": 9,
   "id": "a0fc4ec0",
   "metadata": {},
   "outputs": [
    {
     "data": {
      "text/plain": [
       "(100, 1)"
      ]
     },
     "execution_count": 9,
     "metadata": {},
     "output_type": "execute_result"
    }
   ],
   "source": [
    "X.shape"
   ]
  },
  {
   "cell_type": "code",
   "execution_count": 11,
   "id": "d09fcabe",
   "metadata": {},
   "outputs": [],
   "source": [
    "theta_best = np.linalg.inv(X_b.T @ X_b) @ X_b.T @ Y   # Calculating the best parameter vectors using Normal Equatio"
   ]
  },
  {
   "cell_type": "code",
   "execution_count": 13,
   "id": "fccb91a2",
   "metadata": {},
   "outputs": [
    {
     "data": {
      "text/plain": [
       "array([[4.21509616],\n",
       "       [2.77011339]])"
      ]
     },
     "execution_count": 13,
     "metadata": {},
     "output_type": "execute_result"
    }
   ],
   "source": [
    "theta_best"
   ]
  },
  {
   "cell_type": "code",
   "execution_count": 14,
   "id": "cba04b83",
   "metadata": {},
   "outputs": [],
   "source": [
    "X_new = np.array([[0], [2]])\n",
    "X_new_b = add_dummy_feature(X_new)\n",
    "\n",
    "y_predict = X_new_b @ theta_best"
   ]
  },
  {
   "cell_type": "code",
   "execution_count": 15,
   "id": "d9686cab",
   "metadata": {},
   "outputs": [
    {
     "data": {
      "text/plain": [
       "array([[0],\n",
       "       [2]])"
      ]
     },
     "execution_count": 15,
     "metadata": {},
     "output_type": "execute_result"
    }
   ],
   "source": [
    "X_new"
   ]
  },
  {
   "cell_type": "code",
   "execution_count": 16,
   "id": "67439158",
   "metadata": {},
   "outputs": [
    {
     "data": {
      "text/plain": [
       "array([[4.21509616],\n",
       "       [9.75532293]])"
      ]
     },
     "execution_count": 16,
     "metadata": {},
     "output_type": "execute_result"
    }
   ],
   "source": [
    "y_predict # The predicted values with best tetha values or parameter values."
   ]
  },
  {
   "cell_type": "code",
   "execution_count": 18,
   "id": "1115aee5",
   "metadata": {},
   "outputs": [
    {
     "data": {
      "text/plain": [
       "<function matplotlib.pyplot.show(close=None, block=None)>"
      ]
     },
     "execution_count": 18,
     "metadata": {},
     "output_type": "execute_result"
    },
    {
     "data": {
      "image/png": "[encoded data removed]",
      "text/plain": [
       "<Figure size 640x480 with 1 Axes>"
      ]
     },
     "metadata": {},
     "output_type": "display_data"
    }
   ],
   "source": [
    "plt.plot(X_new, y_predict, \"r-\", label = \"Predictions\")\n",
    "plt.plot(X,Y, \"b.\")\n",
    "plt.show"
   ]
  },
  {
   "cell_type": "code",
   "execution_count": 21,
   "id": "e8d4c31e",
   "metadata": {},
   "outputs": [
    {
     "data": {
      "text/plain": [
       "(array([4.21509616]), array([[2.77011339]]))"
      ]
     },
     "execution_count": 21,
     "metadata": {},
     "output_type": "execute_result"
    }
   ],
   "source": [
    "from sklearn.linear_model import LinearRegression\n",
    "lin_reg = LinearRegression()\n",
    "lin_reg.fit(X,Y)\n",
    "lin_reg.intercept_, lin_reg.coef_"
   ]
  },
  {
   "cell_type": "code",
   "execution_count": 22,
   "id": "10a9c455",
   "metadata": {},
   "outputs": [
    {
     "data": {
      "text/plain": [
       "array([[4.21509616],\n",
       "       [9.75532293]])"
      ]
     },
     "execution_count": 22,
     "metadata": {},
     "output_type": "execute_result"
    }
   ],
   "source": [
    "lin_reg.predict(X_new)"
   ]
  },
  {
   "cell_type": "markdown",
   "id": "71e7367a",
   "metadata": {},
   "source": [
    "# Batch Gradient Descent algorithim"
   ]
  },
  {
   "cell_type": "code",
   "execution_count": 23,
   "id": "200a15cd",
   "metadata": {},
   "outputs": [],
   "source": [
    "eta=0.1\n",
    "n_epoch=100\n",
    "m=len(X_b)\n",
    "\n",
    "np.random.seed(42)\n",
    "theta = np.random.randn(2,1)"
   ]
  },
  {
   "cell_type": "code",
   "execution_count": 24,
   "id": "aca7a077",
   "metadata": {},
   "outputs": [
    {
     "data": {
      "text/plain": [
       "array([[1.        , 0.74908024],\n",
       "       [1.        , 1.90142861],\n",
       "       [1.        , 1.46398788],\n",
       "       [1.        , 1.19731697],\n",
       "       [1.        , 0.31203728],\n",
       "       [1.        , 0.31198904],\n",
       "       [1.        , 0.11616722],\n",
       "       [1.        , 1.73235229],\n",
       "       [1.        , 1.20223002],\n",
       "       [1.        , 1.41614516],\n",
       "       [1.        , 0.04116899],\n",
       "       [1.        , 1.9398197 ],\n",
       "       [1.        , 1.66488528],\n",
       "       [1.        , 0.42467822],\n",
       "       [1.        , 0.36364993],\n",
       "       [1.        , 0.36680902],\n",
       "       [1.        , 0.60848449],\n",
       "       [1.        , 1.04951286],\n",
       "       [1.        , 0.86389004],\n",
       "       [1.        , 0.58245828],\n",
       "       [1.        , 1.22370579],\n",
       "       [1.        , 0.27898772],\n",
       "       [1.        , 0.5842893 ],\n",
       "       [1.        , 0.73272369],\n",
       "       [1.        , 0.91213997],\n",
       "       [1.        , 1.57035192],\n",
       "       [1.        , 0.39934756],\n",
       "       [1.        , 1.02846888],\n",
       "       [1.        , 1.18482914],\n",
       "       [1.        , 0.09290083],\n",
       "       [1.        , 1.2150897 ],\n",
       "       [1.        , 0.34104825],\n",
       "       [1.        , 0.13010319],\n",
       "       [1.        , 1.89777107],\n",
       "       [1.        , 1.93126407],\n",
       "       [1.        , 1.6167947 ],\n",
       "       [1.        , 0.60922754],\n",
       "       [1.        , 0.19534423],\n",
       "       [1.        , 1.36846605],\n",
       "       [1.        , 0.88030499],\n",
       "       [1.        , 0.24407647],\n",
       "       [1.        , 0.99035382],\n",
       "       [1.        , 0.06877704],\n",
       "       [1.        , 1.8186408 ],\n",
       "       [1.        , 0.51755996],\n",
       "       [1.        , 1.32504457],\n",
       "       [1.        , 0.62342215],\n",
       "       [1.        , 1.04013604],\n",
       "       [1.        , 1.09342056],\n",
       "       [1.        , 0.36970891],\n",
       "       [1.        , 1.93916926],\n",
       "       [1.        , 1.55026565],\n",
       "       [1.        , 1.87899788],\n",
       "       [1.        , 1.7896547 ],\n",
       "       [1.        , 1.19579996],\n",
       "       [1.        , 1.84374847],\n",
       "       [1.        , 0.176985  ],\n",
       "       [1.        , 0.39196572],\n",
       "       [1.        , 0.09045458],\n",
       "       [1.        , 0.65066066],\n",
       "       [1.        , 0.77735458],\n",
       "       [1.        , 0.54269806],\n",
       "       [1.        , 1.65747502],\n",
       "       [1.        , 0.71350665],\n",
       "       [1.        , 0.56186902],\n",
       "       [1.        , 1.08539217],\n",
       "       [1.        , 0.28184845],\n",
       "       [1.        , 1.60439396],\n",
       "       [1.        , 0.14910129],\n",
       "       [1.        , 1.97377387],\n",
       "       [1.        , 1.54448954],\n",
       "       [1.        , 0.39743136],\n",
       "       [1.        , 0.01104423],\n",
       "       [1.        , 1.63092286],\n",
       "       [1.        , 1.41371469],\n",
       "       [1.        , 1.45801434],\n",
       "       [1.        , 1.54254069],\n",
       "       [1.        , 0.1480893 ],\n",
       "       [1.        , 0.71693146],\n",
       "       [1.        , 0.23173812],\n",
       "       [1.        , 1.72620685],\n",
       "       [1.        , 1.24659625],\n",
       "       [1.        , 0.66179605],\n",
       "       [1.        , 0.1271167 ],\n",
       "       [1.        , 0.62196464],\n",
       "       [1.        , 0.65036664],\n",
       "       [1.        , 1.45921236],\n",
       "       [1.        , 1.27511494],\n",
       "       [1.        , 1.77442549],\n",
       "       [1.        , 0.94442985],\n",
       "       [1.        , 0.23918849],\n",
       "       [1.        , 1.42648957],\n",
       "       [1.        , 1.5215701 ],\n",
       "       [1.        , 1.1225544 ],\n",
       "       [1.        , 1.54193436],\n",
       "       [1.        , 0.98759119],\n",
       "       [1.        , 1.04546566],\n",
       "       [1.        , 0.85508204],\n",
       "       [1.        , 0.05083825],\n",
       "       [1.        , 0.21578285]])"
      ]
     },
     "execution_count": 24,
     "metadata": {},
     "output_type": "execute_result"
    }
   ],
   "source": [
    "X_b"
   ]
  },
  {
   "cell_type": "code",
   "execution_count": 25,
   "id": "5a161ac2",
   "metadata": {},
   "outputs": [
    {
     "data": {
      "text/plain": [
       "array([[ 0.49671415],\n",
       "       [-0.1382643 ]])"
      ]
     },
     "execution_count": 25,
     "metadata": {},
     "output_type": "execute_result"
    }
   ],
   "source": [
    "theta"
   ]
  },
  {
   "cell_type": "code",
   "execution_count": 27,
   "id": "f8e77ea6",
   "metadata": {},
   "outputs": [],
   "source": [
    "for epoch in range(n_epoch):   # Here the complete X dataset is used to calculate the Gradient descent.\n",
    "    gradients = 2 / m * X_b.T @ (X_b @ theta - Y)\n",
    "    theta = theta - eta*gradients"
   ]
  },
  {
   "cell_type": "code",
   "execution_count": 28,
   "id": "579e3cf7",
   "metadata": {},
   "outputs": [
    {
     "data": {
      "text/plain": [
       "array([[4.19463891],\n",
       "       [2.78817602]])"
      ]
     },
     "execution_count": 28,
     "metadata": {},
     "output_type": "execute_result"
    }
   ],
   "source": [
    "theta"
   ]
  },
  {
   "cell_type": "markdown",
   "id": "8139cdb4",
   "metadata": {},
   "source": [
    "# STOCHASTIC GRADIENT DESCENT"
   ]
  },
  {
   "cell_type": "code",
   "execution_count": 29,
   "id": "c7ed68a0",
   "metadata": {},
   "outputs": [],
   "source": [
    "n_epochs = 50\n",
    "t0 , t1 = 5, 50  # Learning schedule hyperparameters."
   ]
  },
  {
   "cell_type": "code",
   "execution_count": 30,
   "id": "846b746a",
   "metadata": {},
   "outputs": [],
   "source": [
    "def learning_Schedule(t):\n",
    "    return t0 / (t + t1)"
   ]
  },
  {
   "cell_type": "code",
   "execution_count": 31,
   "id": "51ef61b7",
   "metadata": {},
   "outputs": [],
   "source": [
    "np.random.seed(42)\n",
    "theta = np.random.randn(2,1) # Random Initialization"
   ]
  },
  {
   "cell_type": "code",
   "execution_count": 34,
   "id": "8e26c44a",
   "metadata": {},
   "outputs": [],
   "source": [
    "for epoch in range(n_epochs):\n",
    "    for iteration in range(m):\n",
    "        random_index = np.random.randint(m)\n",
    "        xi = X_b[random_index : random_index + 1]\n",
    "        yi = Y[random_index : random_index + 1]\n",
    "        gradients = 2 * xi.T @ (xi @ theta - yi) # For SDG, do not divide by m because we calculate the gradient for each instance.\n",
    "        eta = learning_Schedule(epoch * m + iteration)\n",
    "        theta = theta - eta * gradients"
   ]
  },
  {
   "cell_type": "code",
   "execution_count": 35,
   "id": "00a6c751",
   "metadata": {},
   "outputs": [
    {
     "data": {
      "text/plain": [
       "array([[4.21111524],\n",
       "       [2.74877633]])"
      ]
     },
     "execution_count": 35,
     "metadata": {},
     "output_type": "execute_result"
    }
   ],
   "source": [
    "theta"
   ]
  },
  {
   "cell_type": "code",
   "execution_count": 36,
   "id": "39522c50",
   "metadata": {},
   "outputs": [],
   "source": [
    "from sklearn.linear_model import SGDRegressor"
   ]
  },
  {
   "cell_type": "code",
   "execution_count": 37,
   "id": "97614888",
   "metadata": {},
   "outputs": [],
   "source": [
    "sgd_reg = SGDRegressor(max_iter=1000, tol = 1e-5, penalty=None, eta0=0.01,n_iter_no_change=100, random_state=42)"
   ]
  },
  {
   "cell_type": "code",
   "execution_count": 40,
   "id": "ebe09950",
   "metadata": {},
   "outputs": [
    {
     "data": {
      "text/html": [
       "<style>#sk-container-id-1 {color: black;background-color: white;}#sk-container-id-1 pre{padding: 0;}#sk-container-id-1 div.sk-toggleable {background-color: white;}#sk-container-id-1 label.sk-toggleable__label {cursor: pointer;display: block;width: 100%;margin-bottom: 0;padding: 0.3em;box-sizing: border-box;text-align: center;}#sk-container-id-1 label.sk-toggleable__label-arrow:before {content: \"▸\";float: left;margin-right: 0.25em;color: #696969;}#sk-container-id-1 label.sk-toggleable__label-arrow:hover:before {color: black;}#sk-container-id-1 div.sk-estimator:hover label.sk-toggleable__label-arrow:before {color: black;}#sk-container-id-1 div.sk-toggleable__content {max-height: 0;max-width: 0;overflow: hidden;text-align: left;background-color: #f0f8ff;}#sk-container-id-1 div.sk-toggleable__content pre {margin: 0.2em;color: black;border-radius: 0.25em;background-color: #f0f8ff;}#sk-container-id-1 input.sk-toggleable__control:checked~div.sk-toggleable__content {max-height: 200px;max-width: 100%;overflow: auto;}#sk-container-id-1 input.sk-toggleable__control:checked~label.sk-toggleable__label-arrow:before {content: \"▾\";}#sk-container-id-1 div.sk-estimator input.sk-toggleable__control:checked~label.sk-toggleable__label {background-color: #d4ebff;}#sk-container-id-1 div.sk-label input.sk-toggleable__control:checked~label.sk-toggleable__label {background-color: #d4ebff;}#sk-container-id-1 input.sk-hidden--visually {border: 0;clip: rect(1px 1px 1px 1px);clip: rect(1px, 1px, 1px, 1px);height: 1px;margin: -1px;overflow: hidden;padding: 0;position: absolute;width: 1px;}#sk-container-id-1 div.sk-estimator {font-family: monospace;background-color: #f0f8ff;border: 1px dotted black;border-radius: 0.25em;box-sizing: border-box;margin-bottom: 0.5em;}#sk-container-id-1 div.sk-estimator:hover {background-color: #d4ebff;}#sk-container-id-1 div.sk-parallel-item::after {content: \"\";width: 100%;border-bottom: 1px solid gray;flex-grow: 1;}#sk-container-id-1 div.sk-label:hover label.sk-toggleable__label {background-color: #d4ebff;}#sk-container-id-1 div.sk-serial::before {content: \"\";position: absolute;border-left: 1px solid gray;box-sizing: border-box;top: 0;bottom: 0;left: 50%;z-index: 0;}#sk-container-id-1 div.sk-serial {display: flex;flex-direction: column;align-items: center;background-color: white;padding-right: 0.2em;padding-left: 0.2em;position: relative;}#sk-container-id-1 div.sk-item {position: relative;z-index: 1;}#sk-container-id-1 div.sk-parallel {display: flex;align-items: stretch;justify-content: center;background-color: white;position: relative;}#sk-container-id-1 div.sk-item::before, #sk-container-id-1 div.sk-parallel-item::before {content: \"\";position: absolute;border-left: 1px solid gray;box-sizing: border-box;top: 0;bottom: 0;left: 50%;z-index: -1;}#sk-container-id-1 div.sk-parallel-item {display: flex;flex-direction: column;z-index: 1;position: relative;background-color: white;}#sk-container-id-1 div.sk-parallel-item:first-child::after {align-self: flex-end;width: 50%;}#sk-container-id-1 div.sk-parallel-item:last-child::after {align-self: flex-start;width: 50%;}#sk-container-id-1 div.sk-parallel-item:only-child::after {width: 0;}#sk-container-id-1 div.sk-dashed-wrapped {border: 1px dashed gray;margin: 0 0.4em 0.5em 0.4em;box-sizing: border-box;padding-bottom: 0.4em;background-color: white;}#sk-container-id-1 div.sk-label label {font-family: monospace;font-weight: bold;display: inline-block;line-height: 1.2em;}#sk-container-id-1 div.sk-label-container {text-align: center;}#sk-container-id-1 div.sk-container {/* jupyter's `normalize.less` sets `[hidden] { display: none; }` but bootstrap.min.css set `[hidden] { display: none !important; }` so we also need the `!important` here to be able to override the default hidden behavior on the sphinx rendered scikit-learn.org. See: https://github.com/scikit-learn/scikit-learn/issues/21755 */display: inline-block !important;position: relative;}#sk-container-id-1 div.sk-text-repr-fallback {display: none;}</style><div id=\"sk-container-id-1\" class=\"sk-top-container\"><div class=\"sk-text-repr-fallback\"><pre>SGDRegressor(n_iter_no_change=100, penalty=None, random_state=42, tol=1e-05)</pre><b>In a Jupyter environment, please rerun this cell to show the HTML representation or trust the notebook. <br />On GitHub, the HTML representation is unable to render, please try loading this page with nbviewer.org.</b></div><div class=\"sk-container\" hidden><div class=\"sk-item\"><div class=\"sk-estimator sk-toggleable\"><input class=\"sk-toggleable__control sk-hidden--visually\" id=\"sk-estimator-id-1\" type=\"checkbox\" checked><label for=\"sk-estimator-id-1\" class=\"sk-toggleable__label sk-toggleable__label-arrow\">SGDRegressor</label><div class=\"sk-toggleable__content\"><pre>SGDRegressor(n_iter_no_change=100, penalty=None, random_state=42, tol=1e-05)</pre></div></div></div></div></div>"
      ],
      "text/plain": [
       "SGDRegressor(n_iter_no_change=100, penalty=None, random_state=42, tol=1e-05)"
      ]
     },
     "execution_count": 40,
     "metadata": {},
     "output_type": "execute_result"
    }
   ],
   "source": [
    "sgd_reg.fit(X,Y.ravel())"
   ]
  },
  {
   "cell_type": "code",
   "execution_count": 41,
   "id": "0dd889b7",
   "metadata": {},
   "outputs": [
    {
     "data": {
      "text/plain": [
       "(array([4.21278812]), array([2.77270267]))"
      ]
     },
     "execution_count": 41,
     "metadata": {},
     "output_type": "execute_result"
    }
   ],
   "source": [
    "sgd_reg.intercept_,sgd_reg.coef_"
   ]
  },
  {
   "cell_type": "markdown",
   "id": "26bd2527",
   "metadata": {},
   "source": [
    "# PolynomialRegression"
   ]
  },
  {
   "cell_type": "code",
   "execution_count": 42,
   "id": "bbc171a3",
   "metadata": {},
   "outputs": [],
   "source": [
    "np.random.seed(42)\n",
    "m = 100\n",
    "X = 6 * np.random.rand(m ,1) - 3\n",
    "y = 0.5 * X ** 2 + X + 2 + np.random.randn(m,1)"
   ]
  },
  {
   "cell_type": "code",
   "execution_count": 43,
   "id": "a36ce7ad",
   "metadata": {},
   "outputs": [
    {
     "data": {
      "text/plain": [
       "<matplotlib.collections.PathCollection at 0x1ca57eb2050>"
      ]
     },
     "execution_count": 43,
     "metadata": {},
     "output_type": "execute_result"
    },
    {
     "data": {
      "image/png": "[encoded data removed]",
      "text/plain": [
       "<Figure size 640x480 with 1 Axes>"
      ]
     },
     "metadata": {},
     "output_type": "display_data"
    }
   ],
   "source": [
    "plt.grid()\n",
    "plt.scatter(X, y)"
   ]
  },
  {
   "cell_type": "code",
   "execution_count": 44,
   "id": "49056533",
   "metadata": {},
   "outputs": [
    {
     "name": "stdout",
     "output_type": "stream",
     "text": [
      "[-0.75275929]\n",
      "[-0.75275929  0.56664654]\n"
     ]
    }
   ],
   "source": [
    "# Adding square of each feature\n",
    "\n",
    "from sklearn.preprocessing import PolynomialFeatures\n",
    "\n",
    "poly_features = PolynomialFeatures(degree=2, include_bias=False)\n",
    "X_poly = poly_features.fit_transform(X)\n",
    "print(X[0])\n",
    "print(X_poly[0])"
   ]
  },
  {
   "cell_type": "code",
   "execution_count": 45,
   "id": "a43307bf",
   "metadata": {},
   "outputs": [
    {
     "data": {
      "text/plain": [
       "<matplotlib.collections.PathCollection at 0x1ca57f0aef0>"
      ]
     },
     "execution_count": 45,
     "metadata": {},
     "output_type": "execute_result"
    },
    {
     "data": {
      "image/png": "[encoded data removed]",
      "text/plain": [
       "<Figure size 640x480 with 1 Axes>"
      ]
     },
     "metadata": {},
     "output_type": "display_data"
    }
   ],
   "source": [
    "plt.scatter((X*X),Y)"
   ]
  },
  {
   "cell_type": "code",
   "execution_count": 46,
   "id": "77b0e6b1",
   "metadata": {},
   "outputs": [
    {
     "data": {
      "text/plain": [
       "(array([6.78134581]), array([[0.93366893, 0.06456263]]))"
      ]
     },
     "execution_count": 46,
     "metadata": {},
     "output_type": "execute_result"
    }
   ],
   "source": [
    "lin_reg = LinearRegression()\n",
    "lin_reg.fit(X_poly, Y)\n",
    "lin_reg.intercept_,lin_reg.coef_"
   ]
  },
  {
   "cell_type": "code",
   "execution_count": 47,
   "id": "6959911f",
   "metadata": {},
   "outputs": [],
   "source": [
    "from sklearn.model_selection import learning_curve"
   ]
  },
  {
   "cell_type": "code",
   "execution_count": 48,
   "id": "f5752869",
   "metadata": {},
   "outputs": [],
   "source": [
    "train_sizes, train_scores, valid_scores = learning_curve(LinearRegression(), X, y ,\n",
    "                                                         train_sizes = np.linspace(0.01,1.0,40), cv=5, scoring=\"neg_root_mean_squared_error\")\n",
    "train_errors = -train_scores.mean(axis=1)\n",
    "valid_errors = -valid_scores.mean(axis=1)"
   ]
  },
  {
   "cell_type": "code",
   "execution_count": 49,
   "id": "af80369c",
   "metadata": {},
   "outputs": [
    {
     "data": {
      "image/png": "[encoded data removed]",
      "text/plain": [
       "<Figure size 640x480 with 1 Axes>"
      ]
     },
     "metadata": {},
     "output_type": "display_data"
    }
   ],
   "source": [
    "plt.plot(train_sizes,train_errors, \"r-+\", linewidth=2, label='train')\n",
    "plt.plot(train_sizes,valid_errors, \"b-\", linewidth=3, label='valid')\n",
    "plt.grid()\n",
    "plt.show()"
   ]
  },
  {
   "cell_type": "markdown",
   "id": "26ae4691",
   "metadata": {},
   "source": [
    "In the above the graph the model is underfitting,\n",
    "-> The training error started at 0 when there are only 2, 3 training instances, as the the traning instances are added the model has a reachead a platuue stage in generalizing the patterns so the error rate remained constant even if new instances are added.\n",
    "-> The Validation error was high when there are only 2,3 instances, as the traning insatnaces are added the model fitted to the new data and the validation decresed and stayed at a point as 1.5."
   ]
  },
  {
   "cell_type": "code",
   "execution_count": 50,
   "id": "e95d5a14",
   "metadata": {},
   "outputs": [],
   "source": [
    "# Learning curve on the 10th degree prolynomial.\n",
    "\n",
    "from sklearn.pipeline import make_pipeline\n",
    "\n",
    "polynomial_regression = make_pipeline(PolynomialFeatures(degree=10, include_bias=False), LinearRegression())\n",
    "\n",
    "train_sizes, train_scores, valid_scores = learning_curve(polynomial_regression, X, y ,\n",
    "                                                         train_sizes = np.linspace(0.01,1.0,40), cv=5, scoring=\"neg_root_mean_squared_error\")\n",
    "train_errors = -train_scores.mean(axis=1)\n",
    "valid_errors = -valid_scores.mean(axis=1)"
   ]
  },
  {
   "cell_type": "code",
   "execution_count": 51,
   "id": "6a11e903",
   "metadata": {},
   "outputs": [
    {
     "data": {
      "image/png": "[encoded data removed]",
      "text/plain": [
       "<Figure size 640x480 with 1 Axes>"
      ]
     },
     "metadata": {},
     "output_type": "display_data"
    }
   ],
   "source": [
    "plt.plot(train_sizes,train_errors, \"r-+\", linewidth=2, label='train')\n",
    "plt.plot(train_sizes,valid_errors, \"b-\", linewidth=3, label='valid')\n",
    "plt.grid()\n",
    "plt.show()"
   ]
  },
  {
   "cell_type": "markdown",
   "id": "eb753cc4",
   "metadata": {},
   "source": [
    "# Ridge Regression"
   ]
  },
  {
   "cell_type": "code",
   "execution_count": 52,
   "id": "767bba41",
   "metadata": {},
   "outputs": [],
   "source": [
    "np.random.seed(42)\n",
    "\n",
    "m = 100\n",
    "X = 2 * np.random.rand(m,1)\n",
    "\n",
    "Y = 4+3*X + np.random.randn(m,1)"
   ]
  },
  {
   "cell_type": "code",
   "execution_count": 56,
   "id": "bcc4ccba",
   "metadata": {},
   "outputs": [
    {
     "data": {
      "text/plain": [
       "array([[4.82541643]])"
      ]
     },
     "execution_count": 56,
     "metadata": {},
     "output_type": "execute_result"
    }
   ],
   "source": [
    "# from sklearn.linear_model import Ridge\n",
    "\n",
    "ridge_reg = Ridge(alpha = 0.1, solver=\"cholesky\")\n",
    "ridge_reg.fit(X,y)\n",
    "ridge_reg.predict([[1.5]])"
   ]
  },
  {
   "cell_type": "code",
   "execution_count": 57,
   "id": "76217625",
   "metadata": {},
   "outputs": [
    {
     "data": {
      "text/html": [
       "<style>#sk-container-id-3 {color: black;background-color: white;}#sk-container-id-3 pre{padding: 0;}#sk-container-id-3 div.sk-toggleable {background-color: white;}#sk-container-id-3 label.sk-toggleable__label {cursor: pointer;display: block;width: 100%;margin-bottom: 0;padding: 0.3em;box-sizing: border-box;text-align: center;}#sk-container-id-3 label.sk-toggleable__label-arrow:before {content: \"▸\";float: left;margin-right: 0.25em;color: #696969;}#sk-container-id-3 label.sk-toggleable__label-arrow:hover:before {color: black;}#sk-container-id-3 div.sk-estimator:hover label.sk-toggleable__label-arrow:before {color: black;}#sk-container-id-3 div.sk-toggleable__content {max-height: 0;max-width: 0;overflow: hidden;text-align: left;background-color: #f0f8ff;}#sk-container-id-3 div.sk-toggleable__content pre {margin: 0.2em;color: black;border-radius: 0.25em;background-color: #f0f8ff;}#sk-container-id-3 input.sk-toggleable__control:checked~div.sk-toggleable__content {max-height: 200px;max-width: 100%;overflow: auto;}#sk-container-id-3 input.sk-toggleable__control:checked~label.sk-toggleable__label-arrow:before {content: \"▾\";}#sk-container-id-3 div.sk-estimator input.sk-toggleable__control:checked~label.sk-toggleable__label {background-color: #d4ebff;}#sk-container-id-3 div.sk-label input.sk-toggleable__control:checked~label.sk-toggleable__label {background-color: #d4ebff;}#sk-container-id-3 input.sk-hidden--visually {border: 0;clip: rect(1px 1px 1px 1px);clip: rect(1px, 1px, 1px, 1px);height: 1px;margin: -1px;overflow: hidden;padding: 0;position: absolute;width: 1px;}#sk-container-id-3 div.sk-estimator {font-family: monospace;background-color: #f0f8ff;border: 1px dotted black;border-radius: 0.25em;box-sizing: border-box;margin-bottom: 0.5em;}#sk-container-id-3 div.sk-estimator:hover {background-color: #d4ebff;}#sk-container-id-3 div.sk-parallel-item::after {content: \"\";width: 100%;border-bottom: 1px solid gray;flex-grow: 1;}#sk-container-id-3 div.sk-label:hover label.sk-toggleable__label {background-color: #d4ebff;}#sk-container-id-3 div.sk-serial::before {content: \"\";position: absolute;border-left: 1px solid gray;box-sizing: border-box;top: 0;bottom: 0;left: 50%;z-index: 0;}#sk-container-id-3 div.sk-serial {display: flex;flex-direction: column;align-items: center;background-color: white;padding-right: 0.2em;padding-left: 0.2em;position: relative;}#sk-container-id-3 div.sk-item {position: relative;z-index: 1;}#sk-container-id-3 div.sk-parallel {display: flex;align-items: stretch;justify-content: center;background-color: white;position: relative;}#sk-container-id-3 div.sk-item::before, #sk-container-id-3 div.sk-parallel-item::before {content: \"\";position: absolute;border-left: 1px solid gray;box-sizing: border-box;top: 0;bottom: 0;left: 50%;z-index: -1;}#sk-container-id-3 div.sk-parallel-item {display: flex;flex-direction: column;z-index: 1;position: relative;background-color: white;}#sk-container-id-3 div.sk-parallel-item:first-child::after {align-self: flex-end;width: 50%;}#sk-container-id-3 div.sk-parallel-item:last-child::after {align-self: flex-start;width: 50%;}#sk-container-id-3 div.sk-parallel-item:only-child::after {width: 0;}#sk-container-id-3 div.sk-dashed-wrapped {border: 1px dashed gray;margin: 0 0.4em 0.5em 0.4em;box-sizing: border-box;padding-bottom: 0.4em;background-color: white;}#sk-container-id-3 div.sk-label label {font-family: monospace;font-weight: bold;display: inline-block;line-height: 1.2em;}#sk-container-id-3 div.sk-label-container {text-align: center;}#sk-container-id-3 div.sk-container {/* jupyter's `normalize.less` sets `[hidden] { display: none; }` but bootstrap.min.css set `[hidden] { display: none !important; }` so we also need the `!important` here to be able to override the default hidden behavior on the sphinx rendered scikit-learn.org. See: https://github.com/scikit-learn/scikit-learn/issues/21755 */display: inline-block !important;position: relative;}#sk-container-id-3 div.sk-text-repr-fallback {display: none;}</style><div id=\"sk-container-id-3\" class=\"sk-top-container\"><div class=\"sk-text-repr-fallback\"><pre>SGDRegressor(alpha=0.001, random_state=42, tol=None)</pre><b>In a Jupyter environment, please rerun this cell to show the HTML representation or trust the notebook. <br />On GitHub, the HTML representation is unable to render, please try loading this page with nbviewer.org.</b></div><div class=\"sk-container\" hidden><div class=\"sk-item\"><div class=\"sk-estimator sk-toggleable\"><input class=\"sk-toggleable__control sk-hidden--visually\" id=\"sk-estimator-id-3\" type=\"checkbox\" checked><label for=\"sk-estimator-id-3\" class=\"sk-toggleable__label sk-toggleable__label-arrow\">SGDRegressor</label><div class=\"sk-toggleable__content\"><pre>SGDRegressor(alpha=0.001, random_state=42, tol=None)</pre></div></div></div></div></div>"
      ],
      "text/plain": [
       "SGDRegressor(alpha=0.001, random_state=42, tol=None)"
      ]
     },
     "execution_count": 57,
     "metadata": {},
     "output_type": "execute_result"
    }
   ],
   "source": [
    "sgd_reg = SGDRegressor(penalty=\"l2\", alpha=0.1/m, tol=None, max_iter = 1000, eta0=0.01, random_state=42)\n",
    "# Here we use penalty as l2 and we square the vector paratemer in ridge reg and alpha value is divided by m as per formula\n",
    "sgd_reg.fit(X,y.ravel())"
   ]
  },
  {
   "cell_type": "code",
   "execution_count": 58,
   "id": "efceed0d",
   "metadata": {},
   "outputs": [
    {
     "data": {
      "text/plain": [
       "array([4.82759124])"
      ]
     },
     "execution_count": 58,
     "metadata": {},
     "output_type": "execute_result"
    }
   ],
   "source": [
    "sgd_reg.predict([[1.5]])"
   ]
  },
  {
   "cell_type": "markdown",
   "id": "3a1e3e80",
   "metadata": {},
   "source": [
    "# EARLY STOPPING"
   ]
  },
  {
   "cell_type": "code",
   "execution_count": 60,
   "id": "9883618a",
   "metadata": {},
   "outputs": [],
   "source": [
    "from copy import deepcopy\n",
    "from sklearn.metrics import mean_squared_error\n",
    "from sklearn.preprocessing import StandardScaler\n",
    "from sklearn.model_selection import train_test_split"
   ]
  },
  {
   "cell_type": "code",
   "execution_count": 73,
   "id": "a4b2b72f",
   "metadata": {},
   "outputs": [],
   "source": [
    "X_train,X_valid,y_train,y_valid = train_test_split(X,y)"
   ]
  },
  {
   "cell_type": "code",
   "execution_count": 75,
   "id": "de114264",
   "metadata": {},
   "outputs": [
    {
     "name": "stdout",
     "output_type": "stream",
     "text": [
      "(75, 1)\n",
      "(75, 1)\n"
     ]
    }
   ],
   "source": [
    "print(X_train.shape)\n",
    "print(y_train.shape)"
   ]
  },
  {
   "cell_type": "code",
   "execution_count": 76,
   "id": "88d8e9d5",
   "metadata": {},
   "outputs": [],
   "source": [
    "preprocessing = make_pipeline(PolynomialFeatures(degree=90, include_bias=False), StandardScaler())\n",
    "\n",
    "X_train_prep = preprocessing.fit_transform(X_train)\n",
    "X_valid_prep = preprocessing.transform(X_valid)"
   ]
  },
  {
   "cell_type": "code",
   "execution_count": 77,
   "id": "45ceb1ff",
   "metadata": {},
   "outputs": [
    {
     "name": "stdout",
     "output_type": "stream",
     "text": [
      "(75, 90)\n",
      "(75, 1)\n"
     ]
    }
   ],
   "source": [
    "print(X_train_prep.shape)\n",
    "print(y_train.shape)"
   ]
  },
  {
   "cell_type": "code",
   "execution_count": 78,
   "id": "e73b39cc",
   "metadata": {},
   "outputs": [],
   "source": [
    "sgd_reg = SGDRegressor(penalty=None, eta0=0.002, random_state=42)\n",
    "n_epochs = 500\n",
    "best_valid_rmse = float('inf')"
   ]
  },
  {
   "cell_type": "code",
   "execution_count": 81,
   "id": "4c2c68bd",
   "metadata": {},
   "outputs": [
    {
     "name": "stderr",
     "output_type": "stream",
     "text": [
      "C:\\Users\\aakas\\AppData\\Local\\Programs\\Python\\Python310\\lib\\site-packages\\sklearn\\utils\\validation.py:1111: DataConversionWarning: A column-vector y was passed when a 1d array was expected. Please change the shape of y to (n_samples, ), for example using ravel().\n",
      "  y = column_or_1d(y, warn=True)\n",
      "C:\\Users\\aakas\\AppData\\Local\\Programs\\Python\\Python310\\lib\\site-packages\\sklearn\\utils\\validation.py:1111: DataConversionWarning: A column-vector y was passed when a 1d array was expected. Please change the shape of y to (n_samples, ), for example using ravel().\n",
      "  y = column_or_1d(y, warn=True)\n",
      "C:\\Users\\aakas\\AppData\\Local\\Programs\\Python\\Python310\\lib\\site-packages\\sklearn\\utils\\validation.py:1111: DataConversionWarning: A column-vector y was passed when a 1d array was expected. Please change the shape of y to (n_samples, ), for example using ravel().\n",
      "  y = column_or_1d(y, warn=True)\n",
      "C:\\Users\\aakas\\AppData\\Local\\Programs\\Python\\Python310\\lib\\site-packages\\sklearn\\utils\\validation.py:1111: DataConversionWarning: A column-vector y was passed when a 1d array was expected. Please change the shape of y to (n_samples, ), for example using ravel().\n",
      "  y = column_or_1d(y, warn=True)\n",
      "C:\\Users\\aakas\\AppData\\Local\\Programs\\Python\\Python310\\lib\\site-packages\\sklearn\\utils\\validation.py:1111: DataConversionWarning: A column-vector y was passed when a 1d array was expected. Please change the shape of y to (n_samples, ), for example using ravel().\n",
      "  y = column_or_1d(y, warn=True)\n",
      "C:\\Users\\aakas\\AppData\\Local\\Programs\\Python\\Python310\\lib\\site-packages\\sklearn\\utils\\validation.py:1111: DataConversionWarning: A column-vector y was passed when a 1d array was expected. Please change the shape of y to (n_samples, ), for example using ravel().\n",
      "  y = column_or_1d(y, warn=True)\n",
      "C:\\Users\\aakas\\AppData\\Local\\Programs\\Python\\Python310\\lib\\site-packages\\sklearn\\utils\\validation.py:1111: DataConversionWarning: A column-vector y was passed when a 1d array was expected. Please change the shape of y to (n_samples, ), for example using ravel().\n",
      "  y = column_or_1d(y, warn=True)\n",
      "C:\\Users\\aakas\\AppData\\Local\\Programs\\Python\\Python310\\lib\\site-packages\\sklearn\\utils\\validation.py:1111: DataConversionWarning: A column-vector y was passed when a 1d array was expected. Please change the shape of y to (n_samples, ), for example using ravel().\n",
      "  y = column_or_1d(y, warn=True)\n",
      "C:\\Users\\aakas\\AppData\\Local\\Programs\\Python\\Python310\\lib\\site-packages\\sklearn\\utils\\validation.py:1111: DataConversionWarning: A column-vector y was passed when a 1d array was expected. Please change the shape of y to (n_samples, ), for example using ravel().\n",
      "  y = column_or_1d(y, warn=True)\n",
      "C:\\Users\\aakas\\AppData\\Local\\Programs\\Python\\Python310\\lib\\site-packages\\sklearn\\utils\\validation.py:1111: DataConversionWarning: A column-vector y was passed when a 1d array was expected. Please change the shape of y to (n_samples, ), for example using ravel().\n",
      "  y = column_or_1d(y, warn=True)\n",
      "C:\\Users\\aakas\\AppData\\Local\\Programs\\Python\\Python310\\lib\\site-packages\\sklearn\\utils\\validation.py:1111: DataConversionWarning: A column-vector y was passed when a 1d array was expected. Please change the shape of y to (n_samples, ), for example using ravel().\n",
      "  y = column_or_1d(y, warn=True)\n",
      "C:\\Users\\aakas\\AppData\\Local\\Programs\\Python\\Python310\\lib\\site-packages\\sklearn\\utils\\validation.py:1111: DataConversionWarning: A column-vector y was passed when a 1d array was expected. Please change the shape of y to (n_samples, ), for example using ravel().\n",
      "  y = column_or_1d(y, warn=True)\n",
      "C:\\Users\\aakas\\AppData\\Local\\Programs\\Python\\Python310\\lib\\site-packages\\sklearn\\utils\\validation.py:1111: DataConversionWarning: A column-vector y was passed when a 1d array was expected. Please change the shape of y to (n_samples, ), for example using ravel().\n",
      "  y = column_or_1d(y, warn=True)\n",
      "C:\\Users\\aakas\\AppData\\Local\\Programs\\Python\\Python310\\lib\\site-packages\\sklearn\\utils\\validation.py:1111: DataConversionWarning: A column-vector y was passed when a 1d array was expected. Please change the shape of y to (n_samples, ), for example using ravel().\n",
      "  y = column_or_1d(y, warn=True)\n",
      "C:\\Users\\aakas\\AppData\\Local\\Programs\\Python\\Python310\\lib\\site-packages\\sklearn\\utils\\validation.py:1111: DataConversionWarning: A column-vector y was passed when a 1d array was expected. Please change the shape of y to (n_samples, ), for example using ravel().\n",
      "  y = column_or_1d(y, warn=True)\n",
      "C:\\Users\\aakas\\AppData\\Local\\Programs\\Python\\Python310\\lib\\site-packages\\sklearn\\utils\\validation.py:1111: DataConversionWarning: A column-vector y was passed when a 1d array was expected. Please change the shape of y to (n_samples, ), for example using ravel().\n",
      "  y = column_or_1d(y, warn=True)\n",
      "C:\\Users\\aakas\\AppData\\Local\\Programs\\Python\\Python310\\lib\\site-packages\\sklearn\\utils\\validation.py:1111: DataConversionWarning: A column-vector y was passed when a 1d array was expected. Please change the shape of y to (n_samples, ), for example using ravel().\n",
      "  y = column_or_1d(y, warn=True)\n",
      "C:\\Users\\aakas\\AppData\\Local\\Programs\\Python\\Python310\\lib\\site-packages\\sklearn\\utils\\validation.py:1111: DataConversionWarning: A column-vector y was passed when a 1d array was expected. Please change the shape of y to (n_samples, ), for example using ravel().\n",
      "  y = column_or_1d(y, warn=True)\n",
      "C:\\Users\\aakas\\AppData\\Local\\Programs\\Python\\Python310\\lib\\site-packages\\sklearn\\utils\\validation.py:1111: DataConversionWarning: A column-vector y was passed when a 1d array was expected. Please change the shape of y to (n_samples, ), for example using ravel().\n",
      "  y = column_or_1d(y, warn=True)\n",
      "C:\\Users\\aakas\\AppData\\Local\\Programs\\Python\\Python310\\lib\\site-packages\\sklearn\\utils\\validation.py:1111: DataConversionWarning: A column-vector y was passed when a 1d array was expected. Please change the shape of y to (n_samples, ), for example using ravel().\n",
      "  y = column_or_1d(y, warn=True)\n",
      "C:\\Users\\aakas\\AppData\\Local\\Programs\\Python\\Python310\\lib\\site-packages\\sklearn\\utils\\validation.py:1111: DataConversionWarning: A column-vector y was passed when a 1d array was expected. Please change the shape of y to (n_samples, ), for example using ravel().\n",
      "  y = column_or_1d(y, warn=True)\n",
      "C:\\Users\\aakas\\AppData\\Local\\Programs\\Python\\Python310\\lib\\site-packages\\sklearn\\utils\\validation.py:1111: DataConversionWarning: A column-vector y was passed when a 1d array was expected. Please change the shape of y to (n_samples, ), for example using ravel().\n",
      "  y = column_or_1d(y, warn=True)\n",
      "C:\\Users\\aakas\\AppData\\Local\\Programs\\Python\\Python310\\lib\\site-packages\\sklearn\\utils\\validation.py:1111: DataConversionWarning: A column-vector y was passed when a 1d array was expected. Please change the shape of y to (n_samples, ), for example using ravel().\n",
      "  y = column_or_1d(y, warn=True)\n",
      "C:\\Users\\aakas\\AppData\\Local\\Programs\\Python\\Python310\\lib\\site-packages\\sklearn\\utils\\validation.py:1111: DataConversionWarning: A column-vector y was passed when a 1d array was expected. Please change the shape of y to (n_samples, ), for example using ravel().\n",
      "  y = column_or_1d(y, warn=True)\n",
      "C:\\Users\\aakas\\AppData\\Local\\Programs\\Python\\Python310\\lib\\site-packages\\sklearn\\utils\\validation.py:1111: DataConversionWarning: A column-vector y was passed when a 1d array was expected. Please change the shape of y to (n_samples, ), for example using ravel().\n",
      "  y = column_or_1d(y, warn=True)\n",
      "C:\\Users\\aakas\\AppData\\Local\\Programs\\Python\\Python310\\lib\\site-packages\\sklearn\\utils\\validation.py:1111: DataConversionWarning: A column-vector y was passed when a 1d array was expected. Please change the shape of y to (n_samples, ), for example using ravel().\n",
      "  y = column_or_1d(y, warn=True)\n",
      "C:\\Users\\aakas\\AppData\\Local\\Programs\\Python\\Python310\\lib\\site-packages\\sklearn\\utils\\validation.py:1111: DataConversionWarning: A column-vector y was passed when a 1d array was expected. Please change the shape of y to (n_samples, ), for example using ravel().\n",
      "  y = column_or_1d(y, warn=True)\n",
      "C:\\Users\\aakas\\AppData\\Local\\Programs\\Python\\Python310\\lib\\site-packages\\sklearn\\utils\\validation.py:1111: DataConversionWarning: A column-vector y was passed when a 1d array was expected. Please change the shape of y to (n_samples, ), for example using ravel().\n",
      "  y = column_or_1d(y, warn=True)\n",
      "C:\\Users\\aakas\\AppData\\Local\\Programs\\Python\\Python310\\lib\\site-packages\\sklearn\\utils\\validation.py:1111: DataConversionWarning: A column-vector y was passed when a 1d array was expected. Please change the shape of y to (n_samples, ), for example using ravel().\n",
      "  y = column_or_1d(y, warn=True)\n",
      "C:\\Users\\aakas\\AppData\\Local\\Programs\\Python\\Python310\\lib\\site-packages\\sklearn\\utils\\validation.py:1111: DataConversionWarning: A column-vector y was passed when a 1d array was expected. Please change the shape of y to (n_samples, ), for example using ravel().\n",
      "  y = column_or_1d(y, warn=True)\n",
      "C:\\Users\\aakas\\AppData\\Local\\Programs\\Python\\Python310\\lib\\site-packages\\sklearn\\utils\\validation.py:1111: DataConversionWarning: A column-vector y was passed when a 1d array was expected. Please change the shape of y to (n_samples, ), for example using ravel().\n",
      "  y = column_or_1d(y, warn=True)\n",
      "C:\\Users\\aakas\\AppData\\Local\\Programs\\Python\\Python310\\lib\\site-packages\\sklearn\\utils\\validation.py:1111: DataConversionWarning: A column-vector y was passed when a 1d array was expected. Please change the shape of y to (n_samples, ), for example using ravel().\n",
      "  y = column_or_1d(y, warn=True)\n",
      "C:\\Users\\aakas\\AppData\\Local\\Programs\\Python\\Python310\\lib\\site-packages\\sklearn\\utils\\validation.py:1111: DataConversionWarning: A column-vector y was passed when a 1d array was expected. Please change the shape of y to (n_samples, ), for example using ravel().\n",
      "  y = column_or_1d(y, warn=True)\n",
      "C:\\Users\\aakas\\AppData\\Local\\Programs\\Python\\Python310\\lib\\site-packages\\sklearn\\utils\\validation.py:1111: DataConversionWarning: A column-vector y was passed when a 1d array was expected. Please change the shape of y to (n_samples, ), for example using ravel().\n",
      "  y = column_or_1d(y, warn=True)\n",
      "C:\\Users\\aakas\\AppData\\Local\\Programs\\Python\\Python310\\lib\\site-packages\\sklearn\\utils\\validation.py:1111: DataConversionWarning: A column-vector y was passed when a 1d array was expected. Please change the shape of y to (n_samples, ), for example using ravel().\n",
      "  y = column_or_1d(y, warn=True)\n",
      "C:\\Users\\aakas\\AppData\\Local\\Programs\\Python\\Python310\\lib\\site-packages\\sklearn\\utils\\validation.py:1111: DataConversionWarning: A column-vector y was passed when a 1d array was expected. Please change the shape of y to (n_samples, ), for example using ravel().\n",
      "  y = column_or_1d(y, warn=True)\n",
      "C:\\Users\\aakas\\AppData\\Local\\Programs\\Python\\Python310\\lib\\site-packages\\sklearn\\utils\\validation.py:1111: DataConversionWarning: A column-vector y was passed when a 1d array was expected. Please change the shape of y to (n_samples, ), for example using ravel().\n",
      "  y = column_or_1d(y, warn=True)\n",
      "C:\\Users\\aakas\\AppData\\Local\\Programs\\Python\\Python310\\lib\\site-packages\\sklearn\\utils\\validation.py:1111: DataConversionWarning: A column-vector y was passed when a 1d array was expected. Please change the shape of y to (n_samples, ), for example using ravel().\n",
      "  y = column_or_1d(y, warn=True)\n",
      "C:\\Users\\aakas\\AppData\\Local\\Programs\\Python\\Python310\\lib\\site-packages\\sklearn\\utils\\validation.py:1111: DataConversionWarning: A column-vector y was passed when a 1d array was expected. Please change the shape of y to (n_samples, ), for example using ravel().\n",
      "  y = column_or_1d(y, warn=True)\n",
      "C:\\Users\\aakas\\AppData\\Local\\Programs\\Python\\Python310\\lib\\site-packages\\sklearn\\utils\\validation.py:1111: DataConversionWarning: A column-vector y was passed when a 1d array was expected. Please change the shape of y to (n_samples, ), for example using ravel().\n",
      "  y = column_or_1d(y, warn=True)\n",
      "C:\\Users\\aakas\\AppData\\Local\\Programs\\Python\\Python310\\lib\\site-packages\\sklearn\\utils\\validation.py:1111: DataConversionWarning: A column-vector y was passed when a 1d array was expected. Please change the shape of y to (n_samples, ), for example using ravel().\n",
      "  y = column_or_1d(y, warn=True)\n",
      "C:\\Users\\aakas\\AppData\\Local\\Programs\\Python\\Python310\\lib\\site-packages\\sklearn\\utils\\validation.py:1111: DataConversionWarning: A column-vector y was passed when a 1d array was expected. Please change the shape of y to (n_samples, ), for example using ravel().\n",
      "  y = column_or_1d(y, warn=True)\n",
      "C:\\Users\\aakas\\AppData\\Local\\Programs\\Python\\Python310\\lib\\site-packages\\sklearn\\utils\\validation.py:1111: DataConversionWarning: A column-vector y was passed when a 1d array was expected. Please change the shape of y to (n_samples, ), for example using ravel().\n",
      "  y = column_or_1d(y, warn=True)\n",
      "C:\\Users\\aakas\\AppData\\Local\\Programs\\Python\\Python310\\lib\\site-packages\\sklearn\\utils\\validation.py:1111: DataConversionWarning: A column-vector y was passed when a 1d array was expected. Please change the shape of y to (n_samples, ), for example using ravel().\n",
      "  y = column_or_1d(y, warn=True)\n",
      "C:\\Users\\aakas\\AppData\\Local\\Programs\\Python\\Python310\\lib\\site-packages\\sklearn\\utils\\validation.py:1111: DataConversionWarning: A column-vector y was passed when a 1d array was expected. Please change the shape of y to (n_samples, ), for example using ravel().\n",
      "  y = column_or_1d(y, warn=True)\n",
      "C:\\Users\\aakas\\AppData\\Local\\Programs\\Python\\Python310\\lib\\site-packages\\sklearn\\utils\\validation.py:1111: DataConversionWarning: A column-vector y was passed when a 1d array was expected. Please change the shape of y to (n_samples, ), for example using ravel().\n",
      "  y = column_or_1d(y, warn=True)\n",
      "C:\\Users\\aakas\\AppData\\Local\\Programs\\Python\\Python310\\lib\\site-packages\\sklearn\\utils\\validation.py:1111: DataConversionWarning: A column-vector y was passed when a 1d array was expected. Please change the shape of y to (n_samples, ), for example using ravel().\n",
      "  y = column_or_1d(y, warn=True)\n",
      "C:\\Users\\aakas\\AppData\\Local\\Programs\\Python\\Python310\\lib\\site-packages\\sklearn\\utils\\validation.py:1111: DataConversionWarning: A column-vector y was passed when a 1d array was expected. Please change the shape of y to (n_samples, ), for example using ravel().\n",
      "  y = column_or_1d(y, warn=True)\n",
      "C:\\Users\\aakas\\AppData\\Local\\Programs\\Python\\Python310\\lib\\site-packages\\sklearn\\utils\\validation.py:1111: DataConversionWarning: A column-vector y was passed when a 1d array was expected. Please change the shape of y to (n_samples, ), for example using ravel().\n",
      "  y = column_or_1d(y, warn=True)\n",
      "C:\\Users\\aakas\\AppData\\Local\\Programs\\Python\\Python310\\lib\\site-packages\\sklearn\\utils\\validation.py:1111: DataConversionWarning: A column-vector y was passed when a 1d array was expected. Please change the shape of y to (n_samples, ), for example using ravel().\n",
      "  y = column_or_1d(y, warn=True)\n",
      "C:\\Users\\aakas\\AppData\\Local\\Programs\\Python\\Python310\\lib\\site-packages\\sklearn\\utils\\validation.py:1111: DataConversionWarning: A column-vector y was passed when a 1d array was expected. Please change the shape of y to (n_samples, ), for example using ravel().\n",
      "  y = column_or_1d(y, warn=True)\n",
      "C:\\Users\\aakas\\AppData\\Local\\Programs\\Python\\Python310\\lib\\site-packages\\sklearn\\utils\\validation.py:1111: DataConversionWarning: A column-vector y was passed when a 1d array was expected. Please change the shape of y to (n_samples, ), for example using ravel().\n",
      "  y = column_or_1d(y, warn=True)\n",
      "C:\\Users\\aakas\\AppData\\Local\\Programs\\Python\\Python310\\lib\\site-packages\\sklearn\\utils\\validation.py:1111: DataConversionWarning: A column-vector y was passed when a 1d array was expected. Please change the shape of y to (n_samples, ), for example using ravel().\n",
      "  y = column_or_1d(y, warn=True)\n",
      "C:\\Users\\aakas\\AppData\\Local\\Programs\\Python\\Python310\\lib\\site-packages\\sklearn\\utils\\validation.py:1111: DataConversionWarning: A column-vector y was passed when a 1d array was expected. Please change the shape of y to (n_samples, ), for example using ravel().\n",
      "  y = column_or_1d(y, warn=True)\n",
      "C:\\Users\\aakas\\AppData\\Local\\Programs\\Python\\Python310\\lib\\site-packages\\sklearn\\utils\\validation.py:1111: DataConversionWarning: A column-vector y was passed when a 1d array was expected. Please change the shape of y to (n_samples, ), for example using ravel().\n",
      "  y = column_or_1d(y, warn=True)\n",
      "C:\\Users\\aakas\\AppData\\Local\\Programs\\Python\\Python310\\lib\\site-packages\\sklearn\\utils\\validation.py:1111: DataConversionWarning: A column-vector y was passed when a 1d array was expected. Please change the shape of y to (n_samples, ), for example using ravel().\n",
      "  y = column_or_1d(y, warn=True)\n",
      "C:\\Users\\aakas\\AppData\\Local\\Programs\\Python\\Python310\\lib\\site-packages\\sklearn\\utils\\validation.py:1111: DataConversionWarning: A column-vector y was passed when a 1d array was expected. Please change the shape of y to (n_samples, ), for example using ravel().\n",
      "  y = column_or_1d(y, warn=True)\n",
      "C:\\Users\\aakas\\AppData\\Local\\Programs\\Python\\Python310\\lib\\site-packages\\sklearn\\utils\\validation.py:1111: DataConversionWarning: A column-vector y was passed when a 1d array was expected. Please change the shape of y to (n_samples, ), for example using ravel().\n",
      "  y = column_or_1d(y, warn=True)\n",
      "C:\\Users\\aakas\\AppData\\Local\\Programs\\Python\\Python310\\lib\\site-packages\\sklearn\\utils\\validation.py:1111: DataConversionWarning: A column-vector y was passed when a 1d array was expected. Please change the shape of y to (n_samples, ), for example using ravel().\n",
      "  y = column_or_1d(y, warn=True)\n",
      "C:\\Users\\aakas\\AppData\\Local\\Programs\\Python\\Python310\\lib\\site-packages\\sklearn\\utils\\validation.py:1111: DataConversionWarning: A column-vector y was passed when a 1d array was expected. Please change the shape of y to (n_samples, ), for example using ravel().\n",
      "  y = column_or_1d(y, warn=True)\n",
      "C:\\Users\\aakas\\AppData\\Local\\Programs\\Python\\Python310\\lib\\site-packages\\sklearn\\utils\\validation.py:1111: DataConversionWarning: A column-vector y was passed when a 1d array was expected. Please change the shape of y to (n_samples, ), for example using ravel().\n",
      "  y = column_or_1d(y, warn=True)\n",
      "C:\\Users\\aakas\\AppData\\Local\\Programs\\Python\\Python310\\lib\\site-packages\\sklearn\\utils\\validation.py:1111: DataConversionWarning: A column-vector y was passed when a 1d array was expected. Please change the shape of y to (n_samples, ), for example using ravel().\n",
      "  y = column_or_1d(y, warn=True)\n",
      "C:\\Users\\aakas\\AppData\\Local\\Programs\\Python\\Python310\\lib\\site-packages\\sklearn\\utils\\validation.py:1111: DataConversionWarning: A column-vector y was passed when a 1d array was expected. Please change the shape of y to (n_samples, ), for example using ravel().\n",
      "  y = column_or_1d(y, warn=True)\n",
      "C:\\Users\\aakas\\AppData\\Local\\Programs\\Python\\Python310\\lib\\site-packages\\sklearn\\utils\\validation.py:1111: DataConversionWarning: A column-vector y was passed when a 1d array was expected. Please change the shape of y to (n_samples, ), for example using ravel().\n",
      "  y = column_or_1d(y, warn=True)\n",
      "C:\\Users\\aakas\\AppData\\Local\\Programs\\Python\\Python310\\lib\\site-packages\\sklearn\\utils\\validation.py:1111: DataConversionWarning: A column-vector y was passed when a 1d array was expected. Please change the shape of y to (n_samples, ), for example using ravel().\n",
      "  y = column_or_1d(y, warn=True)\n",
      "C:\\Users\\aakas\\AppData\\Local\\Programs\\Python\\Python310\\lib\\site-packages\\sklearn\\utils\\validation.py:1111: DataConversionWarning: A column-vector y was passed when a 1d array was expected. Please change the shape of y to (n_samples, ), for example using ravel().\n",
      "  y = column_or_1d(y, warn=True)\n",
      "C:\\Users\\aakas\\AppData\\Local\\Programs\\Python\\Python310\\lib\\site-packages\\sklearn\\utils\\validation.py:1111: DataConversionWarning: A column-vector y was passed when a 1d array was expected. Please change the shape of y to (n_samples, ), for example using ravel().\n",
      "  y = column_or_1d(y, warn=True)\n",
      "C:\\Users\\aakas\\AppData\\Local\\Programs\\Python\\Python310\\lib\\site-packages\\sklearn\\utils\\validation.py:1111: DataConversionWarning: A column-vector y was passed when a 1d array was expected. Please change the shape of y to (n_samples, ), for example using ravel().\n",
      "  y = column_or_1d(y, warn=True)\n",
      "C:\\Users\\aakas\\AppData\\Local\\Programs\\Python\\Python310\\lib\\site-packages\\sklearn\\utils\\validation.py:1111: DataConversionWarning: A column-vector y was passed when a 1d array was expected. Please change the shape of y to (n_samples, ), for example using ravel().\n",
      "  y = column_or_1d(y, warn=True)\n",
      "C:\\Users\\aakas\\AppData\\Local\\Programs\\Python\\Python310\\lib\\site-packages\\sklearn\\utils\\validation.py:1111: DataConversionWarning: A column-vector y was passed when a 1d array was expected. Please change the shape of y to (n_samples, ), for example using ravel().\n",
      "  y = column_or_1d(y, warn=True)\n",
      "C:\\Users\\aakas\\AppData\\Local\\Programs\\Python\\Python310\\lib\\site-packages\\sklearn\\utils\\validation.py:1111: DataConversionWarning: A column-vector y was passed when a 1d array was expected. Please change the shape of y to (n_samples, ), for example using ravel().\n",
      "  y = column_or_1d(y, warn=True)\n",
      "C:\\Users\\aakas\\AppData\\Local\\Programs\\Python\\Python310\\lib\\site-packages\\sklearn\\utils\\validation.py:1111: DataConversionWarning: A column-vector y was passed when a 1d array was expected. Please change the shape of y to (n_samples, ), for example using ravel().\n",
      "  y = column_or_1d(y, warn=True)\n",
      "C:\\Users\\aakas\\AppData\\Local\\Programs\\Python\\Python310\\lib\\site-packages\\sklearn\\utils\\validation.py:1111: DataConversionWarning: A column-vector y was passed when a 1d array was expected. Please change the shape of y to (n_samples, ), for example using ravel().\n",
      "  y = column_or_1d(y, warn=True)\n",
      "C:\\Users\\aakas\\AppData\\Local\\Programs\\Python\\Python310\\lib\\site-packages\\sklearn\\utils\\validation.py:1111: DataConversionWarning: A column-vector y was passed when a 1d array was expected. Please change the shape of y to (n_samples, ), for example using ravel().\n",
      "  y = column_or_1d(y, warn=True)\n",
      "C:\\Users\\aakas\\AppData\\Local\\Programs\\Python\\Python310\\lib\\site-packages\\sklearn\\utils\\validation.py:1111: DataConversionWarning: A column-vector y was passed when a 1d array was expected. Please change the shape of y to (n_samples, ), for example using ravel().\n",
      "  y = column_or_1d(y, warn=True)\n",
      "C:\\Users\\aakas\\AppData\\Local\\Programs\\Python\\Python310\\lib\\site-packages\\sklearn\\utils\\validation.py:1111: DataConversionWarning: A column-vector y was passed when a 1d array was expected. Please change the shape of y to (n_samples, ), for example using ravel().\n",
      "  y = column_or_1d(y, warn=True)\n",
      "C:\\Users\\aakas\\AppData\\Local\\Programs\\Python\\Python310\\lib\\site-packages\\sklearn\\utils\\validation.py:1111: DataConversionWarning: A column-vector y was passed when a 1d array was expected. Please change the shape of y to (n_samples, ), for example using ravel().\n",
      "  y = column_or_1d(y, warn=True)\n",
      "C:\\Users\\aakas\\AppData\\Local\\Programs\\Python\\Python310\\lib\\site-packages\\sklearn\\utils\\validation.py:1111: DataConversionWarning: A column-vector y was passed when a 1d array was expected. Please change the shape of y to (n_samples, ), for example using ravel().\n",
      "  y = column_or_1d(y, warn=True)\n",
      "C:\\Users\\aakas\\AppData\\Local\\Programs\\Python\\Python310\\lib\\site-packages\\sklearn\\utils\\validation.py:1111: DataConversionWarning: A column-vector y was passed when a 1d array was expected. Please change the shape of y to (n_samples, ), for example using ravel().\n",
      "  y = column_or_1d(y, warn=True)\n",
      "C:\\Users\\aakas\\AppData\\Local\\Programs\\Python\\Python310\\lib\\site-packages\\sklearn\\utils\\validation.py:1111: DataConversionWarning: A column-vector y was passed when a 1d array was expected. Please change the shape of y to (n_samples, ), for example using ravel().\n",
      "  y = column_or_1d(y, warn=True)\n",
      "C:\\Users\\aakas\\AppData\\Local\\Programs\\Python\\Python310\\lib\\site-packages\\sklearn\\utils\\validation.py:1111: DataConversionWarning: A column-vector y was passed when a 1d array was expected. Please change the shape of y to (n_samples, ), for example using ravel().\n",
      "  y = column_or_1d(y, warn=True)\n",
      "C:\\Users\\aakas\\AppData\\Local\\Programs\\Python\\Python310\\lib\\site-packages\\sklearn\\utils\\validation.py:1111: DataConversionWarning: A column-vector y was passed when a 1d array was expected. Please change the shape of y to (n_samples, ), for example using ravel().\n",
      "  y = column_or_1d(y, warn=True)\n",
      "C:\\Users\\aakas\\AppData\\Local\\Programs\\Python\\Python310\\lib\\site-packages\\sklearn\\utils\\validation.py:1111: DataConversionWarning: A column-vector y was passed when a 1d array was expected. Please change the shape of y to (n_samples, ), for example using ravel().\n",
      "  y = column_or_1d(y, warn=True)\n",
      "C:\\Users\\aakas\\AppData\\Local\\Programs\\Python\\Python310\\lib\\site-packages\\sklearn\\utils\\validation.py:1111: DataConversionWarning: A column-vector y was passed when a 1d array was expected. Please change the shape of y to (n_samples, ), for example using ravel().\n",
      "  y = column_or_1d(y, warn=True)\n",
      "C:\\Users\\aakas\\AppData\\Local\\Programs\\Python\\Python310\\lib\\site-packages\\sklearn\\utils\\validation.py:1111: DataConversionWarning: A column-vector y was passed when a 1d array was expected. Please change the shape of y to (n_samples, ), for example using ravel().\n",
      "  y = column_or_1d(y, warn=True)\n",
      "C:\\Users\\aakas\\AppData\\Local\\Programs\\Python\\Python310\\lib\\site-packages\\sklearn\\utils\\validation.py:1111: DataConversionWarning: A column-vector y was passed when a 1d array was expected. Please change the shape of y to (n_samples, ), for example using ravel().\n",
      "  y = column_or_1d(y, warn=True)\n",
      "C:\\Users\\aakas\\AppData\\Local\\Programs\\Python\\Python310\\lib\\site-packages\\sklearn\\utils\\validation.py:1111: DataConversionWarning: A column-vector y was passed when a 1d array was expected. Please change the shape of y to (n_samples, ), for example using ravel().\n",
      "  y = column_or_1d(y, warn=True)\n",
      "C:\\Users\\aakas\\AppData\\Local\\Programs\\Python\\Python310\\lib\\site-packages\\sklearn\\utils\\validation.py:1111: DataConversionWarning: A column-vector y was passed when a 1d array was expected. Please change the shape of y to (n_samples, ), for example using ravel().\n",
      "  y = column_or_1d(y, warn=True)\n",
      "C:\\Users\\aakas\\AppData\\Local\\Programs\\Python\\Python310\\lib\\site-packages\\sklearn\\utils\\validation.py:1111: DataConversionWarning: A column-vector y was passed when a 1d array was expected. Please change the shape of y to (n_samples, ), for example using ravel().\n",
      "  y = column_or_1d(y, warn=True)\n",
      "C:\\Users\\aakas\\AppData\\Local\\Programs\\Python\\Python310\\lib\\site-packages\\sklearn\\utils\\validation.py:1111: DataConversionWarning: A column-vector y was passed when a 1d array was expected. Please change the shape of y to (n_samples, ), for example using ravel().\n",
      "  y = column_or_1d(y, warn=True)\n",
      "C:\\Users\\aakas\\AppData\\Local\\Programs\\Python\\Python310\\lib\\site-packages\\sklearn\\utils\\validation.py:1111: DataConversionWarning: A column-vector y was passed when a 1d array was expected. Please change the shape of y to (n_samples, ), for example using ravel().\n",
      "  y = column_or_1d(y, warn=True)\n",
      "C:\\Users\\aakas\\AppData\\Local\\Programs\\Python\\Python310\\lib\\site-packages\\sklearn\\utils\\validation.py:1111: DataConversionWarning: A column-vector y was passed when a 1d array was expected. Please change the shape of y to (n_samples, ), for example using ravel().\n",
      "  y = column_or_1d(y, warn=True)\n",
      "C:\\Users\\aakas\\AppData\\Local\\Programs\\Python\\Python310\\lib\\site-packages\\sklearn\\utils\\validation.py:1111: DataConversionWarning: A column-vector y was passed when a 1d array was expected. Please change the shape of y to (n_samples, ), for example using ravel().\n",
      "  y = column_or_1d(y, warn=True)\n",
      "C:\\Users\\aakas\\AppData\\Local\\Programs\\Python\\Python310\\lib\\site-packages\\sklearn\\utils\\validation.py:1111: DataConversionWarning: A column-vector y was passed when a 1d array was expected. Please change the shape of y to (n_samples, ), for example using ravel().\n",
      "  y = column_or_1d(y, warn=True)\n",
      "C:\\Users\\aakas\\AppData\\Local\\Programs\\Python\\Python310\\lib\\site-packages\\sklearn\\utils\\validation.py:1111: DataConversionWarning: A column-vector y was passed when a 1d array was expected. Please change the shape of y to (n_samples, ), for example using ravel().\n",
      "  y = column_or_1d(y, warn=True)\n",
      "C:\\Users\\aakas\\AppData\\Local\\Programs\\Python\\Python310\\lib\\site-packages\\sklearn\\utils\\validation.py:1111: DataConversionWarning: A column-vector y was passed when a 1d array was expected. Please change the shape of y to (n_samples, ), for example using ravel().\n",
      "  y = column_or_1d(y, warn=True)\n",
      "C:\\Users\\aakas\\AppData\\Local\\Programs\\Python\\Python310\\lib\\site-packages\\sklearn\\utils\\validation.py:1111: DataConversionWarning: A column-vector y was passed when a 1d array was expected. Please change the shape of y to (n_samples, ), for example using ravel().\n",
      "  y = column_or_1d(y, warn=True)\n",
      "C:\\Users\\aakas\\AppData\\Local\\Programs\\Python\\Python310\\lib\\site-packages\\sklearn\\utils\\validation.py:1111: DataConversionWarning: A column-vector y was passed when a 1d array was expected. Please change the shape of y to (n_samples, ), for example using ravel().\n",
      "  y = column_or_1d(y, warn=True)\n",
      "C:\\Users\\aakas\\AppData\\Local\\Programs\\Python\\Python310\\lib\\site-packages\\sklearn\\utils\\validation.py:1111: DataConversionWarning: A column-vector y was passed when a 1d array was expected. Please change the shape of y to (n_samples, ), for example using ravel().\n",
      "  y = column_or_1d(y, warn=True)\n",
      "C:\\Users\\aakas\\AppData\\Local\\Programs\\Python\\Python310\\lib\\site-packages\\sklearn\\utils\\validation.py:1111: DataConversionWarning: A column-vector y was passed when a 1d array was expected. Please change the shape of y to (n_samples, ), for example using ravel().\n",
      "  y = column_or_1d(y, warn=True)\n"
     ]
    }
   ],
   "source": [
    "for i in range(n_epoch):\n",
    "    sgd_reg.partial_fit(X_train_prep,y_train)\n",
    "    y_valid_partial = sgd_reg.predict(X_valid_prep)\n",
    "    val_error = mean_squared_error(y_valid,y_valid_partial, squared=False)\n",
    "    if val_error < best_valid_rmse:\n",
    "        best_valid_rmse = val_error\n",
    "        best_model = deepcopy(sgd_reg)   # Here we save the best model."
   ]
  },
  {
   "cell_type": "markdown",
   "id": "81cdebf9",
   "metadata": {},
   "source": [
    "# Logistic Regression"
   ]
  },
  {
   "cell_type": "code",
   "execution_count": 97,
   "id": "64543285",
   "metadata": {},
   "outputs": [
    {
     "data": {
      "text/plain": [
       "['data',\n",
       " 'target',\n",
       " 'frame',\n",
       " 'target_names',\n",
       " 'DESCR',\n",
       " 'feature_names',\n",
       " 'filename',\n",
       " 'data_module']"
      ]
     },
     "execution_count": 97,
     "metadata": {},
     "output_type": "execute_result"
    }
   ],
   "source": [
    "from sklearn.datasets import load_iris\n",
    "\n",
    "iris = load_iris(as_frame=True)\n",
    "list(iris)"
   ]
  },
  {
   "cell_type": "code",
   "execution_count": 98,
   "id": "1a348ca1",
   "metadata": {},
   "outputs": [
    {
     "data": {
      "text/html": [
       "<div>\n",
       "<style scoped>\n",
       "    .dataframe tbody tr th:only-of-type {\n",
       "        vertical-align: middle;\n",
       "    }\n",
       "\n",
       "    .dataframe tbody tr th {\n",
       "        vertical-align: top;\n",
       "    }\n",
       "\n",
       "    .dataframe thead th {\n",
       "        text-align: right;\n",
       "    }\n",
       "</style>\n",
       "<table border=\"1\" class=\"dataframe\">\n",
       "  <thead>\n",
       "    <tr style=\"text-align: right;\">\n",
       "      <th></th>\n",
       "      <th>sepal length (cm)</th>\n",
       "      <th>sepal width (cm)</th>\n",
       "      <th>petal length (cm)</th>\n",
       "      <th>petal width (cm)</th>\n",
       "    </tr>\n",
       "  </thead>\n",
       "  <tbody>\n",
       "    <tr>\n",
       "      <th>0</th>\n",
       "      <td>5.1</td>\n",
       "      <td>3.5</td>\n",
       "      <td>1.4</td>\n",
       "      <td>0.2</td>\n",
       "    </tr>\n",
       "    <tr>\n",
       "      <th>1</th>\n",
       "      <td>4.9</td>\n",
       "      <td>3.0</td>\n",
       "      <td>1.4</td>\n",
       "      <td>0.2</td>\n",
       "    </tr>\n",
       "    <tr>\n",
       "      <th>2</th>\n",
       "      <td>4.7</td>\n",
       "      <td>3.2</td>\n",
       "      <td>1.3</td>\n",
       "      <td>0.2</td>\n",
       "    </tr>\n",
       "  </tbody>\n",
       "</table>\n",
       "</div>"
      ],
      "text/plain": [
       "   sepal length (cm)  sepal width (cm)  petal length (cm)  petal width (cm)\n",
       "0                5.1               3.5                1.4               0.2\n",
       "1                4.9               3.0                1.4               0.2\n",
       "2                4.7               3.2                1.3               0.2"
      ]
     },
     "execution_count": 98,
     "metadata": {},
     "output_type": "execute_result"
    }
   ],
   "source": [
    "iris.data.head(3)"
   ]
  },
  {
   "cell_type": "code",
   "execution_count": 99,
   "id": "ea3d604d",
   "metadata": {},
   "outputs": [
    {
     "data": {
      "text/plain": [
       "0    0\n",
       "1    0\n",
       "2    0\n",
       "Name: target, dtype: int32"
      ]
     },
     "execution_count": 99,
     "metadata": {},
     "output_type": "execute_result"
    }
   ],
   "source": [
    "iris.target.head(3)"
   ]
  },
  {
   "cell_type": "code",
   "execution_count": 100,
   "id": "33f544c0",
   "metadata": {},
   "outputs": [
    {
     "data": {
      "text/plain": [
       "array(['setosa', 'versicolor', 'virginica'], dtype='<U10')"
      ]
     },
     "execution_count": 100,
     "metadata": {},
     "output_type": "execute_result"
    }
   ],
   "source": [
    "iris.target_names"
   ]
  },
  {
   "cell_type": "code",
   "execution_count": 101,
   "id": "a22e970b",
   "metadata": {},
   "outputs": [],
   "source": [
    "from sklearn.linear_model import LogisticRegression\n",
    "\n",
    "X = iris.data[[\"petal width (cm)\"]].values\n",
    "y = iris.target_names[iris.target] == \"virginica\"\n",
    "\n",
    "X_train,X_test,y_train,y_test = train_test_split(X,y,random_state=42)"
   ]
  },
  {
   "cell_type": "code",
   "execution_count": 102,
   "id": "df2bd307",
   "metadata": {},
   "outputs": [],
   "source": [
    "log_reg = LogisticRegression(random_state=42)"
   ]
  },
  {
   "cell_type": "code",
   "execution_count": 103,
   "id": "c99774e7",
   "metadata": {},
   "outputs": [
    {
     "data": {
      "text/html": [
       "<style>#sk-container-id-4 {color: black;background-color: white;}#sk-container-id-4 pre{padding: 0;}#sk-container-id-4 div.sk-toggleable {background-color: white;}#sk-container-id-4 label.sk-toggleable__label {cursor: pointer;display: block;width: 100%;margin-bottom: 0;padding: 0.3em;box-sizing: border-box;text-align: center;}#sk-container-id-4 label.sk-toggleable__label-arrow:before {content: \"▸\";float: left;margin-right: 0.25em;color: #696969;}#sk-container-id-4 label.sk-toggleable__label-arrow:hover:before {color: black;}#sk-container-id-4 div.sk-estimator:hover label.sk-toggleable__label-arrow:before {color: black;}#sk-container-id-4 div.sk-toggleable__content {max-height: 0;max-width: 0;overflow: hidden;text-align: left;background-color: #f0f8ff;}#sk-container-id-4 div.sk-toggleable__content pre {margin: 0.2em;color: black;border-radius: 0.25em;background-color: #f0f8ff;}#sk-container-id-4 input.sk-toggleable__control:checked~div.sk-toggleable__content {max-height: 200px;max-width: 100%;overflow: auto;}#sk-container-id-4 input.sk-toggleable__control:checked~label.sk-toggleable__label-arrow:before {content: \"▾\";}#sk-container-id-4 div.sk-estimator input.sk-toggleable__control:checked~label.sk-toggleable__label {background-color: #d4ebff;}#sk-container-id-4 div.sk-label input.sk-toggleable__control:checked~label.sk-toggleable__label {background-color: #d4ebff;}#sk-container-id-4 input.sk-hidden--visually {border: 0;clip: rect(1px 1px 1px 1px);clip: rect(1px, 1px, 1px, 1px);height: 1px;margin: -1px;overflow: hidden;padding: 0;position: absolute;width: 1px;}#sk-container-id-4 div.sk-estimator {font-family: monospace;background-color: #f0f8ff;border: 1px dotted black;border-radius: 0.25em;box-sizing: border-box;margin-bottom: 0.5em;}#sk-container-id-4 div.sk-estimator:hover {background-color: #d4ebff;}#sk-container-id-4 div.sk-parallel-item::after {content: \"\";width: 100%;border-bottom: 1px solid gray;flex-grow: 1;}#sk-container-id-4 div.sk-label:hover label.sk-toggleable__label {background-color: #d4ebff;}#sk-container-id-4 div.sk-serial::before {content: \"\";position: absolute;border-left: 1px solid gray;box-sizing: border-box;top: 0;bottom: 0;left: 50%;z-index: 0;}#sk-container-id-4 div.sk-serial {display: flex;flex-direction: column;align-items: center;background-color: white;padding-right: 0.2em;padding-left: 0.2em;position: relative;}#sk-container-id-4 div.sk-item {position: relative;z-index: 1;}#sk-container-id-4 div.sk-parallel {display: flex;align-items: stretch;justify-content: center;background-color: white;position: relative;}#sk-container-id-4 div.sk-item::before, #sk-container-id-4 div.sk-parallel-item::before {content: \"\";position: absolute;border-left: 1px solid gray;box-sizing: border-box;top: 0;bottom: 0;left: 50%;z-index: -1;}#sk-container-id-4 div.sk-parallel-item {display: flex;flex-direction: column;z-index: 1;position: relative;background-color: white;}#sk-container-id-4 div.sk-parallel-item:first-child::after {align-self: flex-end;width: 50%;}#sk-container-id-4 div.sk-parallel-item:last-child::after {align-self: flex-start;width: 50%;}#sk-container-id-4 div.sk-parallel-item:only-child::after {width: 0;}#sk-container-id-4 div.sk-dashed-wrapped {border: 1px dashed gray;margin: 0 0.4em 0.5em 0.4em;box-sizing: border-box;padding-bottom: 0.4em;background-color: white;}#sk-container-id-4 div.sk-label label {font-family: monospace;font-weight: bold;display: inline-block;line-height: 1.2em;}#sk-container-id-4 div.sk-label-container {text-align: center;}#sk-container-id-4 div.sk-container {/* jupyter's `normalize.less` sets `[hidden] { display: none; }` but bootstrap.min.css set `[hidden] { display: none !important; }` so we also need the `!important` here to be able to override the default hidden behavior on the sphinx rendered scikit-learn.org. See: https://github.com/scikit-learn/scikit-learn/issues/21755 */display: inline-block !important;position: relative;}#sk-container-id-4 div.sk-text-repr-fallback {display: none;}</style><div id=\"sk-container-id-4\" class=\"sk-top-container\"><div class=\"sk-text-repr-fallback\"><pre>LogisticRegression(random_state=42)</pre><b>In a Jupyter environment, please rerun this cell to show the HTML representation or trust the notebook. <br />On GitHub, the HTML representation is unable to render, please try loading this page with nbviewer.org.</b></div><div class=\"sk-container\" hidden><div class=\"sk-item\"><div class=\"sk-estimator sk-toggleable\"><input class=\"sk-toggleable__control sk-hidden--visually\" id=\"sk-estimator-id-4\" type=\"checkbox\" checked><label for=\"sk-estimator-id-4\" class=\"sk-toggleable__label sk-toggleable__label-arrow\">LogisticRegression</label><div class=\"sk-toggleable__content\"><pre>LogisticRegression(random_state=42)</pre></div></div></div></div></div>"
      ],
      "text/plain": [
       "LogisticRegression(random_state=42)"
      ]
     },
     "execution_count": 103,
     "metadata": {},
     "output_type": "execute_result"
    }
   ],
   "source": [
    "log_reg.fit(X_train,y_train)"
   ]
  },
  {
   "cell_type": "code",
   "execution_count": 106,
   "id": "f330b1aa",
   "metadata": {},
   "outputs": [],
   "source": [
    "X_new = np.linspace(0,3,1000).reshape(-1,1)"
   ]
  },
  {
   "cell_type": "code",
   "execution_count": 107,
   "id": "7bc64816",
   "metadata": {},
   "outputs": [],
   "source": [
    "y_proba = log_reg.predict_proba(X_new)"
   ]
  },
  {
   "cell_type": "code",
   "execution_count": 135,
   "id": "741b4c86",
   "metadata": {},
   "outputs": [
    {
     "data": {
      "text/plain": [
       "(1000, 2)"
      ]
     },
     "execution_count": 135,
     "metadata": {},
     "output_type": "execute_result"
    }
   ],
   "source": [
    "y_proba.shape"
   ]
  },
  {
   "cell_type": "code",
   "execution_count": 146,
   "id": "1d453aef",
   "metadata": {},
   "outputs": [
    {
     "data": {
      "text/plain": [
       "array([[0.99822633, 0.00177367],\n",
       "       [0.99820582, 0.00179418],\n",
       "       [0.99818506, 0.00181494],\n",
       "       ...,\n",
       "       [0.00574788, 0.99425212],\n",
       "       [0.00568241, 0.99431759],\n",
       "       [0.00561769, 0.99438231]])"
      ]
     },
     "execution_count": 146,
     "metadata": {},
     "output_type": "execute_result"
    }
   ],
   "source": [
    "y_proba[:,:]"
   ]
  },
  {
   "cell_type": "code",
   "execution_count": 150,
   "id": "7548b068",
   "metadata": {},
   "outputs": [
    {
     "data": {
      "text/plain": [
       "array([[1.65165165],\n",
       "       [1.65465465],\n",
       "       [1.65765766],\n",
       "       [1.66066066],\n",
       "       [1.66366366],\n",
       "       [1.66666667],\n",
       "       [1.66966967],\n",
       "       [1.67267267],\n",
       "       [1.67567568],\n",
       "       [1.67867868],\n",
       "       [1.68168168],\n",
       "       [1.68468468],\n",
       "       [1.68768769],\n",
       "       [1.69069069],\n",
       "       [1.69369369],\n",
       "       [1.6966967 ],\n",
       "       [1.6996997 ],\n",
       "       [1.7027027 ],\n",
       "       [1.70570571],\n",
       "       [1.70870871],\n",
       "       [1.71171171],\n",
       "       [1.71471471],\n",
       "       [1.71771772],\n",
       "       [1.72072072],\n",
       "       [1.72372372],\n",
       "       [1.72672673],\n",
       "       [1.72972973],\n",
       "       [1.73273273],\n",
       "       [1.73573574],\n",
       "       [1.73873874],\n",
       "       [1.74174174],\n",
       "       [1.74474474],\n",
       "       [1.74774775],\n",
       "       [1.75075075],\n",
       "       [1.75375375],\n",
       "       [1.75675676],\n",
       "       [1.75975976],\n",
       "       [1.76276276],\n",
       "       [1.76576577],\n",
       "       [1.76876877],\n",
       "       [1.77177177],\n",
       "       [1.77477477],\n",
       "       [1.77777778],\n",
       "       [1.78078078],\n",
       "       [1.78378378],\n",
       "       [1.78678679],\n",
       "       [1.78978979],\n",
       "       [1.79279279],\n",
       "       [1.7957958 ],\n",
       "       [1.7987988 ],\n",
       "       [1.8018018 ],\n",
       "       [1.8048048 ],\n",
       "       [1.80780781],\n",
       "       [1.81081081],\n",
       "       [1.81381381],\n",
       "       [1.81681682],\n",
       "       [1.81981982],\n",
       "       [1.82282282],\n",
       "       [1.82582583],\n",
       "       [1.82882883],\n",
       "       [1.83183183],\n",
       "       [1.83483483],\n",
       "       [1.83783784],\n",
       "       [1.84084084],\n",
       "       [1.84384384],\n",
       "       [1.84684685],\n",
       "       [1.84984985],\n",
       "       [1.85285285],\n",
       "       [1.85585586],\n",
       "       [1.85885886],\n",
       "       [1.86186186],\n",
       "       [1.86486486],\n",
       "       [1.86786787],\n",
       "       [1.87087087],\n",
       "       [1.87387387],\n",
       "       [1.87687688],\n",
       "       [1.87987988],\n",
       "       [1.88288288],\n",
       "       [1.88588589],\n",
       "       [1.88888889],\n",
       "       [1.89189189],\n",
       "       [1.89489489],\n",
       "       [1.8978979 ],\n",
       "       [1.9009009 ],\n",
       "       [1.9039039 ],\n",
       "       [1.90690691],\n",
       "       [1.90990991],\n",
       "       [1.91291291],\n",
       "       [1.91591592],\n",
       "       [1.91891892],\n",
       "       [1.92192192],\n",
       "       [1.92492492],\n",
       "       [1.92792793],\n",
       "       [1.93093093],\n",
       "       [1.93393393],\n",
       "       [1.93693694],\n",
       "       [1.93993994],\n",
       "       [1.94294294],\n",
       "       [1.94594595],\n",
       "       [1.94894895],\n",
       "       [1.95195195],\n",
       "       [1.95495495],\n",
       "       [1.95795796],\n",
       "       [1.96096096],\n",
       "       [1.96396396],\n",
       "       [1.96696697],\n",
       "       [1.96996997],\n",
       "       [1.97297297],\n",
       "       [1.97597598],\n",
       "       [1.97897898],\n",
       "       [1.98198198],\n",
       "       [1.98498498],\n",
       "       [1.98798799],\n",
       "       [1.99099099],\n",
       "       [1.99399399],\n",
       "       [1.996997  ],\n",
       "       [2.        ],\n",
       "       [2.003003  ],\n",
       "       [2.00600601],\n",
       "       [2.00900901],\n",
       "       [2.01201201],\n",
       "       [2.01501502],\n",
       "       [2.01801802],\n",
       "       [2.02102102],\n",
       "       [2.02402402],\n",
       "       [2.02702703],\n",
       "       [2.03003003],\n",
       "       [2.03303303],\n",
       "       [2.03603604],\n",
       "       [2.03903904],\n",
       "       [2.04204204],\n",
       "       [2.04504505],\n",
       "       [2.04804805],\n",
       "       [2.05105105],\n",
       "       [2.05405405],\n",
       "       [2.05705706],\n",
       "       [2.06006006],\n",
       "       [2.06306306],\n",
       "       [2.06606607],\n",
       "       [2.06906907],\n",
       "       [2.07207207],\n",
       "       [2.07507508],\n",
       "       [2.07807808],\n",
       "       [2.08108108],\n",
       "       [2.08408408],\n",
       "       [2.08708709],\n",
       "       [2.09009009],\n",
       "       [2.09309309],\n",
       "       [2.0960961 ],\n",
       "       [2.0990991 ],\n",
       "       [2.1021021 ],\n",
       "       [2.10510511],\n",
       "       [2.10810811],\n",
       "       [2.11111111],\n",
       "       [2.11411411],\n",
       "       [2.11711712],\n",
       "       [2.12012012],\n",
       "       [2.12312312],\n",
       "       [2.12612613],\n",
       "       [2.12912913],\n",
       "       [2.13213213],\n",
       "       [2.13513514],\n",
       "       [2.13813814],\n",
       "       [2.14114114],\n",
       "       [2.14414414],\n",
       "       [2.14714715],\n",
       "       [2.15015015],\n",
       "       [2.15315315],\n",
       "       [2.15615616],\n",
       "       [2.15915916],\n",
       "       [2.16216216],\n",
       "       [2.16516517],\n",
       "       [2.16816817],\n",
       "       [2.17117117],\n",
       "       [2.17417417],\n",
       "       [2.17717718],\n",
       "       [2.18018018],\n",
       "       [2.18318318],\n",
       "       [2.18618619],\n",
       "       [2.18918919],\n",
       "       [2.19219219],\n",
       "       [2.1951952 ],\n",
       "       [2.1981982 ],\n",
       "       [2.2012012 ],\n",
       "       [2.2042042 ],\n",
       "       [2.20720721],\n",
       "       [2.21021021],\n",
       "       [2.21321321],\n",
       "       [2.21621622],\n",
       "       [2.21921922],\n",
       "       [2.22222222],\n",
       "       [2.22522523],\n",
       "       [2.22822823],\n",
       "       [2.23123123],\n",
       "       [2.23423423],\n",
       "       [2.23723724],\n",
       "       [2.24024024],\n",
       "       [2.24324324],\n",
       "       [2.24624625],\n",
       "       [2.24924925],\n",
       "       [2.25225225],\n",
       "       [2.25525526],\n",
       "       [2.25825826],\n",
       "       [2.26126126],\n",
       "       [2.26426426],\n",
       "       [2.26726727],\n",
       "       [2.27027027],\n",
       "       [2.27327327],\n",
       "       [2.27627628],\n",
       "       [2.27927928],\n",
       "       [2.28228228],\n",
       "       [2.28528529],\n",
       "       [2.28828829],\n",
       "       [2.29129129],\n",
       "       [2.29429429],\n",
       "       [2.2972973 ],\n",
       "       [2.3003003 ],\n",
       "       [2.3033033 ],\n",
       "       [2.30630631],\n",
       "       [2.30930931],\n",
       "       [2.31231231],\n",
       "       [2.31531532],\n",
       "       [2.31831832],\n",
       "       [2.32132132],\n",
       "       [2.32432432],\n",
       "       [2.32732733],\n",
       "       [2.33033033],\n",
       "       [2.33333333],\n",
       "       [2.33633634],\n",
       "       [2.33933934],\n",
       "       [2.34234234],\n",
       "       [2.34534535],\n",
       "       [2.34834835],\n",
       "       [2.35135135],\n",
       "       [2.35435435],\n",
       "       [2.35735736],\n",
       "       [2.36036036],\n",
       "       [2.36336336],\n",
       "       [2.36636637],\n",
       "       [2.36936937],\n",
       "       [2.37237237],\n",
       "       [2.37537538],\n",
       "       [2.37837838],\n",
       "       [2.38138138],\n",
       "       [2.38438438],\n",
       "       [2.38738739],\n",
       "       [2.39039039],\n",
       "       [2.39339339],\n",
       "       [2.3963964 ],\n",
       "       [2.3993994 ],\n",
       "       [2.4024024 ],\n",
       "       [2.40540541],\n",
       "       [2.40840841],\n",
       "       [2.41141141],\n",
       "       [2.41441441],\n",
       "       [2.41741742],\n",
       "       [2.42042042],\n",
       "       [2.42342342],\n",
       "       [2.42642643],\n",
       "       [2.42942943],\n",
       "       [2.43243243],\n",
       "       [2.43543544],\n",
       "       [2.43843844],\n",
       "       [2.44144144],\n",
       "       [2.44444444],\n",
       "       [2.44744745],\n",
       "       [2.45045045],\n",
       "       [2.45345345],\n",
       "       [2.45645646],\n",
       "       [2.45945946],\n",
       "       [2.46246246],\n",
       "       [2.46546547],\n",
       "       [2.46846847],\n",
       "       [2.47147147],\n",
       "       [2.47447447],\n",
       "       [2.47747748],\n",
       "       [2.48048048],\n",
       "       [2.48348348],\n",
       "       [2.48648649],\n",
       "       [2.48948949],\n",
       "       [2.49249249],\n",
       "       [2.4954955 ],\n",
       "       [2.4984985 ],\n",
       "       [2.5015015 ],\n",
       "       [2.5045045 ],\n",
       "       [2.50750751],\n",
       "       [2.51051051],\n",
       "       [2.51351351],\n",
       "       [2.51651652],\n",
       "       [2.51951952],\n",
       "       [2.52252252],\n",
       "       [2.52552553],\n",
       "       [2.52852853],\n",
       "       [2.53153153],\n",
       "       [2.53453453],\n",
       "       [2.53753754],\n",
       "       [2.54054054],\n",
       "       [2.54354354],\n",
       "       [2.54654655],\n",
       "       [2.54954955],\n",
       "       [2.55255255],\n",
       "       [2.55555556],\n",
       "       [2.55855856],\n",
       "       [2.56156156],\n",
       "       [2.56456456],\n",
       "       [2.56756757],\n",
       "       [2.57057057],\n",
       "       [2.57357357],\n",
       "       [2.57657658],\n",
       "       [2.57957958],\n",
       "       [2.58258258],\n",
       "       [2.58558559],\n",
       "       [2.58858859],\n",
       "       [2.59159159],\n",
       "       [2.59459459],\n",
       "       [2.5975976 ],\n",
       "       [2.6006006 ],\n",
       "       [2.6036036 ],\n",
       "       [2.60660661],\n",
       "       [2.60960961],\n",
       "       [2.61261261],\n",
       "       [2.61561562],\n",
       "       [2.61861862],\n",
       "       [2.62162162],\n",
       "       [2.62462462],\n",
       "       [2.62762763],\n",
       "       [2.63063063],\n",
       "       [2.63363363],\n",
       "       [2.63663664],\n",
       "       [2.63963964],\n",
       "       [2.64264264],\n",
       "       [2.64564565],\n",
       "       [2.64864865],\n",
       "       [2.65165165],\n",
       "       [2.65465465],\n",
       "       [2.65765766],\n",
       "       [2.66066066],\n",
       "       [2.66366366],\n",
       "       [2.66666667],\n",
       "       [2.66966967],\n",
       "       [2.67267267],\n",
       "       [2.67567568],\n",
       "       [2.67867868],\n",
       "       [2.68168168],\n",
       "       [2.68468468],\n",
       "       [2.68768769],\n",
       "       [2.69069069],\n",
       "       [2.69369369],\n",
       "       [2.6966967 ],\n",
       "       [2.6996997 ],\n",
       "       [2.7027027 ],\n",
       "       [2.70570571],\n",
       "       [2.70870871],\n",
       "       [2.71171171],\n",
       "       [2.71471471],\n",
       "       [2.71771772],\n",
       "       [2.72072072],\n",
       "       [2.72372372],\n",
       "       [2.72672673],\n",
       "       [2.72972973],\n",
       "       [2.73273273],\n",
       "       [2.73573574],\n",
       "       [2.73873874],\n",
       "       [2.74174174],\n",
       "       [2.74474474],\n",
       "       [2.74774775],\n",
       "       [2.75075075],\n",
       "       [2.75375375],\n",
       "       [2.75675676],\n",
       "       [2.75975976],\n",
       "       [2.76276276],\n",
       "       [2.76576577],\n",
       "       [2.76876877],\n",
       "       [2.77177177],\n",
       "       [2.77477477],\n",
       "       [2.77777778],\n",
       "       [2.78078078],\n",
       "       [2.78378378],\n",
       "       [2.78678679],\n",
       "       [2.78978979],\n",
       "       [2.79279279],\n",
       "       [2.7957958 ],\n",
       "       [2.7987988 ],\n",
       "       [2.8018018 ],\n",
       "       [2.8048048 ],\n",
       "       [2.80780781],\n",
       "       [2.81081081],\n",
       "       [2.81381381],\n",
       "       [2.81681682],\n",
       "       [2.81981982],\n",
       "       [2.82282282],\n",
       "       [2.82582583],\n",
       "       [2.82882883],\n",
       "       [2.83183183],\n",
       "       [2.83483483],\n",
       "       [2.83783784],\n",
       "       [2.84084084],\n",
       "       [2.84384384],\n",
       "       [2.84684685],\n",
       "       [2.84984985],\n",
       "       [2.85285285],\n",
       "       [2.85585586],\n",
       "       [2.85885886],\n",
       "       [2.86186186],\n",
       "       [2.86486486],\n",
       "       [2.86786787],\n",
       "       [2.87087087],\n",
       "       [2.87387387],\n",
       "       [2.87687688],\n",
       "       [2.87987988],\n",
       "       [2.88288288],\n",
       "       [2.88588589],\n",
       "       [2.88888889],\n",
       "       [2.89189189],\n",
       "       [2.89489489],\n",
       "       [2.8978979 ],\n",
       "       [2.9009009 ],\n",
       "       [2.9039039 ],\n",
       "       [2.90690691],\n",
       "       [2.90990991],\n",
       "       [2.91291291],\n",
       "       [2.91591592],\n",
       "       [2.91891892],\n",
       "       [2.92192192],\n",
       "       [2.92492492],\n",
       "       [2.92792793],\n",
       "       [2.93093093],\n",
       "       [2.93393393],\n",
       "       [2.93693694],\n",
       "       [2.93993994],\n",
       "       [2.94294294],\n",
       "       [2.94594595],\n",
       "       [2.94894895],\n",
       "       [2.95195195],\n",
       "       [2.95495495],\n",
       "       [2.95795796],\n",
       "       [2.96096096],\n",
       "       [2.96396396],\n",
       "       [2.96696697],\n",
       "       [2.96996997],\n",
       "       [2.97297297],\n",
       "       [2.97597598],\n",
       "       [2.97897898],\n",
       "       [2.98198198],\n",
       "       [2.98498498],\n",
       "       [2.98798799],\n",
       "       [2.99099099],\n",
       "       [2.99399399],\n",
       "       [2.996997  ],\n",
       "       [3.        ]])"
      ]
     },
     "execution_count": 150,
     "metadata": {},
     "output_type": "execute_result"
    }
   ],
   "source": [
    "X_new[y_proba[:,1] >=0.5]"
   ]
  },
  {
   "cell_type": "code",
   "execution_count": 151,
   "id": "959e0a9b",
   "metadata": {},
   "outputs": [
    {
     "data": {
      "text/plain": [
       "1.6516516516516517"
      ]
     },
     "execution_count": 151,
     "metadata": {},
     "output_type": "execute_result"
    }
   ],
   "source": [
    "X_new[y_proba[:,1] >=0.5][0,0]"
   ]
  },
  {
   "cell_type": "code",
   "execution_count": 119,
   "id": "a46fee70",
   "metadata": {},
   "outputs": [],
   "source": [
    "decision_boundary = X_new[y_proba[:,1] >= 0.5][0,0]"
   ]
  },
  {
   "cell_type": "code",
   "execution_count": 124,
   "id": "7ce55370",
   "metadata": {},
   "outputs": [
    {
     "data": {
      "text/plain": [
       "<function matplotlib.pyplot.show(close=None, block=None)>"
      ]
     },
     "execution_count": 124,
     "metadata": {},
     "output_type": "execute_result"
    },
    {
     "data": {
      "image/png": "[encoded data removed]",
      "text/plain": [
       "<Figure size 640x480 with 1 Axes>"
      ]
     },
     "metadata": {},
     "output_type": "display_data"
    }
   ],
   "source": [
    "plt.plot(X_new, y_proba[:,0], 'b--', linewidth=2,label = \"Not Iris Virginica Proba\")\n",
    "plt.plot(X_new, y_proba[:,1], 'g-', linewidth=2,label = \"Iris Virginica Proba\")\n",
    "plt.plot([decision_boundary,decision_boundary], [0,1], \"k:\",linewidth=2,label = \"Decision Boundary\")\n",
    "plt.grid()\n",
    "plt.show"
   ]
  },
  {
   "cell_type": "markdown",
   "id": "cd0cf7ce",
   "metadata": {},
   "source": [
    "In the above graph we can see that the virginica flowers has petal width gretee than 1.6 cm, so model is sure its virginica flower if its lengths is greater than 1.6. and if petel width is less thatn 1.6, then model be sure its not iris virginica flow. so 1.6 cm is decision boundary where the model predicts 50% probability for both cases"
   ]
  },
  {
   "cell_type": "code",
   "execution_count": 153,
   "id": "adcb83ee",
   "metadata": {},
   "outputs": [
    {
     "data": {
      "text/plain": [
       "array([False,  True])"
      ]
     },
     "execution_count": 153,
     "metadata": {},
     "output_type": "execute_result"
    }
   ],
   "source": [
    "log_reg.predict([[1.5],[1.7]])"
   ]
  },
  {
   "cell_type": "code",
   "execution_count": null,
   "id": "0a9f0ad3",
   "metadata": {},
   "outputs": [],
   "source": []
  }
 ],
 "metadata": {
  "kernelspec": {
   "display_name": "Python 3 (ipykernel)",
   "language": "python",
   "name": "python3"
  },
  "language_info": {
   "codemirror_mode": {
    "name": "ipython",
    "version": 3
   },
   "file_extension": ".py",
   "mimetype": "text/x-python",
   "name": "python",
   "nbconvert_exporter": "python",
   "pygments_lexer": "ipython3",
   "version": "3.10.8"
  }
 },
 "nbformat": 4,
 "nbformat_minor": 5
}
