{
 "cells": [
  {
   "cell_type": "code",
   "execution_count": 27,
   "id": "f23c6a52",
   "metadata": {},
   "outputs": [],
   "source": [
    "\"\"\"\n",
    "Standardization - It is a process where take the mean of a list l and subtract the mean from each element in the list\n",
    "and storing the output to a new list k . \n",
    "\n",
    "Thr new list k has a mean value of 0. This is called Standardization. \n",
    "\n",
    "\"\"\"\n",
    "\n",
    "l = [1,2,3,4,5]\n",
    "\n",
    "import numpy as np"
   ]
  },
  {
   "cell_type": "code",
   "execution_count": 28,
   "id": "d0bed248",
   "metadata": {},
   "outputs": [
    {
     "data": {
      "text/plain": [
       "3.0"
      ]
     },
     "execution_count": 28,
     "metadata": {},
     "output_type": "execute_result"
    }
   ],
   "source": [
    "np.mean(l)"
   ]
  },
  {
   "cell_type": "code",
   "execution_count": 29,
   "id": "8501d5d9",
   "metadata": {},
   "outputs": [],
   "source": [
    "a = []\n",
    "for i in l:\n",
    "    x = i - 3\n",
    "    a.append(x)"
   ]
  },
  {
   "cell_type": "code",
   "execution_count": 33,
   "id": "4078f77d",
   "metadata": {},
   "outputs": [
    {
     "data": {
      "text/plain": [
       "[-2, -1, 0, 1, 2]"
      ]
     },
     "execution_count": 33,
     "metadata": {},
     "output_type": "execute_result"
    }
   ],
   "source": [
    "a"
   ]
  },
  {
   "cell_type": "code",
   "execution_count": 34,
   "id": "f2735efd",
   "metadata": {},
   "outputs": [
    {
     "name": "stdout",
     "output_type": "stream",
     "text": [
      "-1.414213562373095\n",
      "-0.7071067811865475\n",
      "0.0\n",
      "0.7071067811865475\n",
      "1.414213562373095\n"
     ]
    }
   ],
   "source": [
    "for i in a:\n",
    "    x = i/np.std(a)\n",
    "    print(x)"
   ]
  },
  {
   "cell_type": "code",
   "execution_count": 22,
   "id": "89c049ea",
   "metadata": {},
   "outputs": [],
   "source": [
    "\"\"\" Normalization - This is a process adjusting a list between the range of 0 and 1 . \n",
    "It is a process of subtracting minimum  value of a list and dividing by the min max difference.\"\"\"\n",
    "\n",
    "\n",
    "l = [1,2,3,4,5,6]\n",
    "\n",
    "a = []\n",
    "\n",
    "min = 1\n",
    "max = 6\n",
    "\n",
    "for i in l:\n",
    "    x = (i - min) / (min-max)\n",
    "    a.append(x)"
   ]
  },
  {
   "cell_type": "code",
   "execution_count": 23,
   "id": "60d388a3",
   "metadata": {},
   "outputs": [
    {
     "data": {
      "text/plain": [
       "[-0.0, -0.2, -0.4, -0.6, -0.8, -1.0]"
      ]
     },
     "execution_count": 23,
     "metadata": {},
     "output_type": "execute_result"
    }
   ],
   "source": [
    "a"
   ]
  },
  {
   "cell_type": "code",
   "execution_count": 25,
   "id": "faba099f",
   "metadata": {},
   "outputs": [
    {
     "data": {
      "text/plain": [
       "array([0.        , 1.        , 1.5849625 , 2.        , 2.32192809,\n",
       "       2.5849625 ])"
      ]
     },
     "execution_count": 25,
     "metadata": {},
     "output_type": "execute_result"
    }
   ],
   "source": []
  },
  {
   "cell_type": "code",
   "execution_count": null,
   "id": "5ef84036",
   "metadata": {},
   "outputs": [],
   "source": []
  }
 ],
 "metadata": {
  "kernelspec": {
   "display_name": "Python 3 (ipykernel)",
   "language": "python",
   "name": "python3"
  },
  "language_info": {
   "codemirror_mode": {
    "name": "ipython",
    "version": 3
   },
   "file_extension": ".py",
   "mimetype": "text/x-python",
   "name": "python",
   "nbconvert_exporter": "python",
   "pygments_lexer": "ipython3",
   "version": "3.10.8"
  }
 },
 "nbformat": 4,
 "nbformat_minor": 5
}
